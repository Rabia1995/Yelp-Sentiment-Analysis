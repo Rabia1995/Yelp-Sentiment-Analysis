{
 "cells": [
  {
   "cell_type": "markdown",
   "id": "c1811c58",
   "metadata": {},
   "source": [
    "# Yelp Reviews Sentiment Analysis - Preprocessing\n",
    "\n",
    "#### Prepared By: Rabia Tariq"
   ]
  },
  {
   "cell_type": "markdown",
   "id": "95d7ed1c",
   "metadata": {},
   "source": [
    "## Contents\n",
    "\n",
    "* [Introduction](#Introduction)\n",
    "* [Imports](#Imports)\n",
    "* [Categorization](#Category)\n",
    "* [TF-IDF](#Tfidf)\n",
    "* [CountVectorizer](#CountVector)\n",
    "* [Training Data](#Training)\n",
    "    * [Logistic Regression](#Logreg)\n",
    "    * [Min_df](#Min_df)\n",
    "    * [N-grams](#Ngrams)\n",
    "* [Conclusion](#Conclusion)"
   ]
  },
  {
   "cell_type": "markdown",
   "id": "870dc486",
   "metadata": {},
   "source": [
    "## Introduction<a id='Introduction'></a>\n",
    "\n",
    "Uptil now we have performed data wrangling and performed exploratory data analysis. Now, in this notebook we will be doing preprocessing so we can get our data ready for modeling. We will be splitting our data and will create a simple Logistic Regression as our base model.\n",
    "\n",
    "In this notebook, we will be labeling our data as it is unlabeled. We will also be using TF-IDF and CountVectorizer to create vectors of our cleaned reviews."
   ]
  },
  {
   "cell_type": "markdown",
   "id": "395483fe",
   "metadata": {},
   "source": [
    "## Imports<a id='Imports'></a>"
   ]
  },
  {
   "cell_type": "code",
   "execution_count": 2,
   "id": "cab3da9f",
   "metadata": {},
   "outputs": [
    {
     "name": "stdout",
     "output_type": "stream",
     "text": [
      "Collecting pycm\n",
      "  Downloading pycm-3.2-py2.py3-none-any.whl (64 kB)\n",
      "Requirement already satisfied: numpy>=1.9.0 in c:\\users\\taimoor\\anaconda3\\lib\\site-packages (from pycm) (1.19.5)\n",
      "Collecting art>=1.8\n",
      "  Downloading art-5.3-py2.py3-none-any.whl (574 kB)\n",
      "Installing collected packages: art, pycm\n",
      "Successfully installed art-5.3 pycm-3.2\n"
     ]
    }
   ],
   "source": [
    "#!pip install pycm\n",
    "import pandas as pd\n",
    "import numpy as np\n",
    "import matplotlib.pyplot as plt\n",
    "import seaborn as sns\n",
    "sns.set()\n",
    "from sklearn.model_selection import train_test_split\n",
    "from sklearn.pipeline import Pipeline\n",
    "from sklearn.feature_extraction.text import TfidfVectorizer\n",
    "from sklearn.feature_extraction.text import CountVectorizer\n",
    "from sklearn.linear_model import LogisticRegression\n",
    "from sklearn.metrics import confusion_matrix, accuracy_score\n",
    "from pycm import *\n",
    "import operator\n",
    "\n",
    "\n",
    "import warnings\n",
    "warnings.filterwarnings('ignore')"
   ]
  },
  {
   "cell_type": "code",
   "execution_count": 3,
   "id": "eb700e3a",
   "metadata": {},
   "outputs": [
    {
     "data": {
      "text/html": [
       "<div>\n",
       "<style scoped>\n",
       "    .dataframe tbody tr th:only-of-type {\n",
       "        vertical-align: middle;\n",
       "    }\n",
       "\n",
       "    .dataframe tbody tr th {\n",
       "        vertical-align: top;\n",
       "    }\n",
       "\n",
       "    .dataframe thead th {\n",
       "        text-align: right;\n",
       "    }\n",
       "</style>\n",
       "<table border=\"1\" class=\"dataframe\">\n",
       "  <thead>\n",
       "    <tr style=\"text-align: right;\">\n",
       "      <th></th>\n",
       "      <th>Alias</th>\n",
       "      <th>Name</th>\n",
       "      <th>Rating</th>\n",
       "      <th>Price</th>\n",
       "      <th>City</th>\n",
       "      <th>Zip_code</th>\n",
       "      <th>Address</th>\n",
       "      <th>Review</th>\n",
       "      <th>Word_Count</th>\n",
       "      <th>Tokens</th>\n",
       "      <th>Filtered_Sentence</th>\n",
       "      <th>StopWord_Count</th>\n",
       "      <th>%_SW</th>\n",
       "      <th>Lemmatized</th>\n",
       "      <th>Stemmed_Sentence</th>\n",
       "      <th>Stemmed_Tokens</th>\n",
       "      <th>Stemmed_Word_Count</th>\n",
       "      <th>Positive_Word_Count</th>\n",
       "      <th>%_Positive_Words</th>\n",
       "      <th>Polarity</th>\n",
       "    </tr>\n",
       "  </thead>\n",
       "  <tbody>\n",
       "    <tr>\n",
       "      <th>0</th>\n",
       "      <td>morris-park-bake-shop-bronx</td>\n",
       "      <td>Morris Park Bake Shop</td>\n",
       "      <td>4.5</td>\n",
       "      <td>$$</td>\n",
       "      <td>Bronx</td>\n",
       "      <td>10462</td>\n",
       "      <td>1007 Morris Park Ave</td>\n",
       "      <td>'Morris Park Bake Shop has become my go to spo...</td>\n",
       "      <td>49</td>\n",
       "      <td>['morris', 'park', 'bake', 'shop', 'become', '...</td>\n",
       "      <td>morris park bake shop become go spot atmosphe...</td>\n",
       "      <td>20</td>\n",
       "      <td>0.408163</td>\n",
       "      <td>morris park bake shop become go spot atmospher...</td>\n",
       "      <td>morri park bake shop becom go spot atmospher p...</td>\n",
       "      <td>['morri', 'park', 'bake', 'shop', 'becom', 'go...</td>\n",
       "      <td>28</td>\n",
       "      <td>6</td>\n",
       "      <td>0.206897</td>\n",
       "      <td>0.338889</td>\n",
       "    </tr>\n",
       "    <tr>\n",
       "      <th>1</th>\n",
       "      <td>morris-park-bake-shop-bronx</td>\n",
       "      <td>Morris Park Bake Shop</td>\n",
       "      <td>4.5</td>\n",
       "      <td>$$</td>\n",
       "      <td>Bronx</td>\n",
       "      <td>10462</td>\n",
       "      <td>1007 Morris Park Ave</td>\n",
       "      <td>'I thought the cookies and biscotti were prett...</td>\n",
       "      <td>122</td>\n",
       "      <td>['thought', 'cookies', 'biscotti', 'pretty', '...</td>\n",
       "      <td>thought cookies biscotti pretty good definite...</td>\n",
       "      <td>53</td>\n",
       "      <td>0.434426</td>\n",
       "      <td>thought cooky biscotti pretty good definitely ...</td>\n",
       "      <td>thought cooki biscotti pretti good definit tas...</td>\n",
       "      <td>['thought', 'cooki', 'biscotti', 'pretti', 'go...</td>\n",
       "      <td>61</td>\n",
       "      <td>9</td>\n",
       "      <td>0.130435</td>\n",
       "      <td>0.314583</td>\n",
       "    </tr>\n",
       "    <tr>\n",
       "      <th>2</th>\n",
       "      <td>morris-park-bake-shop-bronx</td>\n",
       "      <td>Morris Park Bake Shop</td>\n",
       "      <td>4.5</td>\n",
       "      <td>$$</td>\n",
       "      <td>Bronx</td>\n",
       "      <td>10462</td>\n",
       "      <td>1007 Morris Park Ave</td>\n",
       "      <td>'Guys.... so Im a big time biscotti connoisseu...</td>\n",
       "      <td>169</td>\n",
       "      <td>['guys', 'im', 'big', 'time', 'biscotti', 'con...</td>\n",
       "      <td>guys im big time biscotti connoisseur always ...</td>\n",
       "      <td>75</td>\n",
       "      <td>0.443787</td>\n",
       "      <td>guy im big time biscotti connoisseur always hu...</td>\n",
       "      <td>guy im big time biscotti connoisseur alway hun...</td>\n",
       "      <td>['guy', 'im', 'big', 'time', 'biscotti', 'conn...</td>\n",
       "      <td>90</td>\n",
       "      <td>12</td>\n",
       "      <td>0.127660</td>\n",
       "      <td>0.238068</td>\n",
       "    </tr>\n",
       "    <tr>\n",
       "      <th>3</th>\n",
       "      <td>morris-park-bake-shop-bronx</td>\n",
       "      <td>Morris Park Bake Shop</td>\n",
       "      <td>4.5</td>\n",
       "      <td>$$</td>\n",
       "      <td>Bronx</td>\n",
       "      <td>10462</td>\n",
       "      <td>1007 Morris Park Ave</td>\n",
       "      <td>'I had a craving for a special type of cake wi...</td>\n",
       "      <td>59</td>\n",
       "      <td>['craving', 'special', 'type', 'cake', 'ice', ...</td>\n",
       "      <td>craving special type cake ice cream layer reg...</td>\n",
       "      <td>27</td>\n",
       "      <td>0.457627</td>\n",
       "      <td>craving special type cake ice cream layer regu...</td>\n",
       "      <td>crave special type cake ice cream layer regula...</td>\n",
       "      <td>['crave', 'special', 'type', 'cake', 'ice', 'c...</td>\n",
       "      <td>30</td>\n",
       "      <td>7</td>\n",
       "      <td>0.218750</td>\n",
       "      <td>0.314643</td>\n",
       "    </tr>\n",
       "    <tr>\n",
       "      <th>4</th>\n",
       "      <td>morris-park-bake-shop-bronx</td>\n",
       "      <td>Morris Park Bake Shop</td>\n",
       "      <td>4.5</td>\n",
       "      <td>$$</td>\n",
       "      <td>Bronx</td>\n",
       "      <td>10462</td>\n",
       "      <td>1007 Morris Park Ave</td>\n",
       "      <td>'The chocolate cups are amazing! Have been eat...</td>\n",
       "      <td>16</td>\n",
       "      <td>['chocolate', 'cups', 'amazing', 'eating', 'ye...</td>\n",
       "      <td>chocolate cups amazing eating years always ta...</td>\n",
       "      <td>7</td>\n",
       "      <td>0.437500</td>\n",
       "      <td>chocolate cup amazing eating year always taste...</td>\n",
       "      <td>chocol cup amaz eat year alway tast fantast</td>\n",
       "      <td>['chocol', 'cup', 'amaz', 'eat', 'year', 'alwa...</td>\n",
       "      <td>8</td>\n",
       "      <td>2</td>\n",
       "      <td>0.222222</td>\n",
       "      <td>0.500000</td>\n",
       "    </tr>\n",
       "  </tbody>\n",
       "</table>\n",
       "</div>"
      ],
      "text/plain": [
       "                         Alias                   Name  Rating Price   City  \\\n",
       "0  morris-park-bake-shop-bronx  Morris Park Bake Shop     4.5    $$  Bronx   \n",
       "1  morris-park-bake-shop-bronx  Morris Park Bake Shop     4.5    $$  Bronx   \n",
       "2  morris-park-bake-shop-bronx  Morris Park Bake Shop     4.5    $$  Bronx   \n",
       "3  morris-park-bake-shop-bronx  Morris Park Bake Shop     4.5    $$  Bronx   \n",
       "4  morris-park-bake-shop-bronx  Morris Park Bake Shop     4.5    $$  Bronx   \n",
       "\n",
       "   Zip_code               Address  \\\n",
       "0     10462  1007 Morris Park Ave   \n",
       "1     10462  1007 Morris Park Ave   \n",
       "2     10462  1007 Morris Park Ave   \n",
       "3     10462  1007 Morris Park Ave   \n",
       "4     10462  1007 Morris Park Ave   \n",
       "\n",
       "                                              Review  Word_Count  \\\n",
       "0  'Morris Park Bake Shop has become my go to spo...          49   \n",
       "1  'I thought the cookies and biscotti were prett...         122   \n",
       "2  'Guys.... so Im a big time biscotti connoisseu...         169   \n",
       "3  'I had a craving for a special type of cake wi...          59   \n",
       "4  'The chocolate cups are amazing! Have been eat...          16   \n",
       "\n",
       "                                              Tokens  \\\n",
       "0  ['morris', 'park', 'bake', 'shop', 'become', '...   \n",
       "1  ['thought', 'cookies', 'biscotti', 'pretty', '...   \n",
       "2  ['guys', 'im', 'big', 'time', 'biscotti', 'con...   \n",
       "3  ['craving', 'special', 'type', 'cake', 'ice', ...   \n",
       "4  ['chocolate', 'cups', 'amazing', 'eating', 'ye...   \n",
       "\n",
       "                                   Filtered_Sentence  StopWord_Count  \\\n",
       "0   morris park bake shop become go spot atmosphe...              20   \n",
       "1   thought cookies biscotti pretty good definite...              53   \n",
       "2   guys im big time biscotti connoisseur always ...              75   \n",
       "3   craving special type cake ice cream layer reg...              27   \n",
       "4   chocolate cups amazing eating years always ta...               7   \n",
       "\n",
       "       %_SW                                         Lemmatized  \\\n",
       "0  0.408163  morris park bake shop become go spot atmospher...   \n",
       "1  0.434426  thought cooky biscotti pretty good definitely ...   \n",
       "2  0.443787  guy im big time biscotti connoisseur always hu...   \n",
       "3  0.457627  craving special type cake ice cream layer regu...   \n",
       "4  0.437500  chocolate cup amazing eating year always taste...   \n",
       "\n",
       "                                    Stemmed_Sentence  \\\n",
       "0  morri park bake shop becom go spot atmospher p...   \n",
       "1  thought cooki biscotti pretti good definit tas...   \n",
       "2  guy im big time biscotti connoisseur alway hun...   \n",
       "3  crave special type cake ice cream layer regula...   \n",
       "4        chocol cup amaz eat year alway tast fantast   \n",
       "\n",
       "                                      Stemmed_Tokens  Stemmed_Word_Count  \\\n",
       "0  ['morri', 'park', 'bake', 'shop', 'becom', 'go...                  28   \n",
       "1  ['thought', 'cooki', 'biscotti', 'pretti', 'go...                  61   \n",
       "2  ['guy', 'im', 'big', 'time', 'biscotti', 'conn...                  90   \n",
       "3  ['crave', 'special', 'type', 'cake', 'ice', 'c...                  30   \n",
       "4  ['chocol', 'cup', 'amaz', 'eat', 'year', 'alwa...                   8   \n",
       "\n",
       "   Positive_Word_Count  %_Positive_Words  Polarity  \n",
       "0                    6          0.206897  0.338889  \n",
       "1                    9          0.130435  0.314583  \n",
       "2                   12          0.127660  0.238068  \n",
       "3                    7          0.218750  0.314643  \n",
       "4                    2          0.222222  0.500000  "
      ]
     },
     "execution_count": 3,
     "metadata": {},
     "output_type": "execute_result"
    }
   ],
   "source": [
    "yelp_data = pd.read_csv('yelp_data_eda.csv')\n",
    "yelp_data.head()"
   ]
  },
  {
   "cell_type": "markdown",
   "id": "7651aab7",
   "metadata": {},
   "source": [
    "## Categorization<a id='Category'></a>\n",
    "\n",
    "Since our data is unlabeled, first we have to create the categories i.e. __'Positive', 'Negative'__ which are going to be used by our model to sort the reviews for our sentiment analysis. We are going to be doing that using the Polarity.  "
   ]
  },
  {
   "cell_type": "code",
   "execution_count": 4,
   "id": "903fa2f7",
   "metadata": {},
   "outputs": [],
   "source": [
    "yelp_data_cat = yelp_data[yelp_data['Polarity'] != 0]\n",
    "yelp_data_cat = yelp_data_cat.reset_index()"
   ]
  },
  {
   "cell_type": "code",
   "execution_count": 5,
   "id": "3b6be9e6",
   "metadata": {},
   "outputs": [],
   "source": [
    "label = []\n",
    "for i in range(len(yelp_data_cat)):\n",
    "    if yelp_data_cat['Polarity'][i] > 0:\n",
    "        label.append('Positive')\n",
    "    if yelp_data_cat['Polarity'][i] < 0:\n",
    "        label.append('Negative')\n",
    "yelp_data_cat['label'] = label"
   ]
  },
  {
   "cell_type": "markdown",
   "id": "e6f235f0",
   "metadata": {},
   "source": [
    "Now lets graphically look at the distribution of positive and negative comments in our data"
   ]
  },
  {
   "cell_type": "code",
   "execution_count": 8,
   "id": "2048aa36",
   "metadata": {},
   "outputs": [
    {
     "data": {
      "image/png": "[encoded data removed]",
      "text/plain": [
       "<Figure size 432x288 with 1 Axes>"
      ]
     },
     "metadata": {},
     "output_type": "display_data"
    }
   ],
   "source": [
    "yelp_data_cat['label'].value_counts().plot(kind='bar')\n",
    "plt.title('Sentiment of Yelp Reviews');"
   ]
  },
  {
   "cell_type": "markdown",
   "id": "e820a692",
   "metadata": {},
   "source": [
    "Here we can see that most of the reviews are positive. According to yelp, most Yelp community members usually write more positive than negative reviews. So, it is expected.\n",
    "\n",
    "https://www.yelp-support.com/article/Does-Yelp-recommend-more-positive-or-negative-reviews?l=en_US"
   ]
  },
  {
   "cell_type": "code",
   "execution_count": 6,
   "id": "8bcbc2fe",
   "metadata": {},
   "outputs": [],
   "source": [
    "label = []\n",
    "\n",
    "for i in range(len(yelp_data_cat)):\n",
    "    if yelp_data_cat['Polarity'][i] < 0:\n",
    "        label.append('Negative')\n",
    "    if yelp_data_cat['Polarity'][i] > 0 and yelp_data_cat['Polarity'][i] <= 0.2:\n",
    "        label.append('Somewhat Negative')\n",
    "    if yelp_data_cat['Polarity'][i] > 0.2 and yelp_data_cat['Polarity'][i] < 0.4:\n",
    "        label.append('Somewhat Positive')\n",
    "    if yelp_data_cat['Polarity'][i] >= 0.4:\n",
    "        label.append('Positive')\n",
    "\n",
    "yelp_data_cat['label'] = label"
   ]
  },
  {
   "cell_type": "code",
   "execution_count": 7,
   "id": "3c1fe771",
   "metadata": {},
   "outputs": [
    {
     "data": {
      "image/png": "[encoded data removed]",
      "text/plain": [
       "<Figure size 432x288 with 1 Axes>"
      ]
     },
     "metadata": {},
     "output_type": "display_data"
    }
   ],
   "source": [
    "yelp_data_cat['label'].value_counts().plot(kind='bar')\n",
    "plt.title('Sentiment of Yelp Reviews');"
   ]
  },
  {
   "cell_type": "markdown",
   "id": "b14f1e2d",
   "metadata": {},
   "source": [
    "Now we are going to be using TFIDF and Count Vectorizer to the reviews into word vectors."
   ]
  },
  {
   "cell_type": "markdown",
   "id": "be6837e4",
   "metadata": {},
   "source": [
    "## TF-IDF<a id='Tfidf'></a>\n",
    "\n",
    "TF-IDF stands for “Term Frequency — Inverse Document Frequency”. This is a technique to quantify words in a set of documents. We generally compute a score for each word to signify its importance in the document and corpus.\n",
    "\n",
    "This source tells how it works and how to use it\n",
    "\n",
    "https://www.geeksforgeeks.org/understanding-tf-idf-term-frequency-inverse-document-frequency/"
   ]
  },
  {
   "cell_type": "code",
   "execution_count": 8,
   "id": "25cb4083",
   "metadata": {},
   "outputs": [
    {
     "name": "stdout",
     "output_type": "stream",
     "text": [
      "List of unique Words:  {'morris': 39, 'park': 42, 'bake': 8, 'shop': 52, 'become': 9, 'go': 24, 'spot': 54, 'atmosphere': 6, 'place': 43, 'great': 26, 'inviting': 30, 'love': 33, 'every': 19, 'thing': 59, 'ordered': 41, 'staff': 55, 'really': 49, 'pleasant': 45, 'definitely': 17, 'help': 28, 'anything': 5, 'come': 15, 'back': 7, 'thought': 60, 'cookies': 16, 'biscotti': 11, 'pretty': 47, 'good': 25, 'tasty': 56, 'nothing': 40, 'blew': 12, 'water': 64, 'rock': 50, 'hard': 27, 'almond': 2, 'probably': 48, 'best': 10, 'however': 29, 'didnt': 18, 'feel': 20, 'wonderfully': 67, 'safe': 51, 'walked': 63, 'man': 34, 'toward': 61, 'mask': 35, 'another': 4, 'female': 21, 'member': 37, 'chin': 14, '13': 0, 'members': 38, 'masks': 36, 'isnt': 31, 'walk': 62, 'additionally': 1, 'theyre': 58, 'cash': 13, 'whatever': 66, 'know': 32, 'plenty': 46, 'places': 44, 'wouldnt': 68, 'way': 65, 'get': 23, 'something': 53, 'already': 3, 'thats': 57, 'fine': 22}\n",
      "\n",
      "Shape of the Sparse Matrix  (2, 69)\n",
      "\n",
      "[[0.         0.         0.         0.         0.         0.17794504\n",
      "  0.17794504 0.12660936 0.35589008 0.17794504 0.         0.\n",
      "  0.         0.         0.         0.17794504 0.         0.25321872\n",
      "  0.         0.17794504 0.         0.         0.         0.\n",
      "  0.12660936 0.         0.12660936 0.         0.17794504 0.\n",
      "  0.17794504 0.         0.         0.17794504 0.         0.\n",
      "  0.         0.         0.         0.35589008 0.         0.17794504\n",
      "  0.35589008 0.17794504 0.         0.17794504 0.         0.\n",
      "  0.         0.12660936 0.         0.         0.25321872 0.\n",
      "  0.17794504 0.12660936 0.         0.         0.         0.17794504\n",
      "  0.         0.         0.         0.         0.         0.\n",
      "  0.         0.         0.        ]\n",
      " [0.11775926 0.11775926 0.11775926 0.11775926 0.11775926 0.\n",
      "  0.         0.08378668 0.         0.         0.11775926 0.23551851\n",
      "  0.11775926 0.35327777 0.11775926 0.         0.11775926 0.08378668\n",
      "  0.11775926 0.         0.11775926 0.11775926 0.11775926 0.23551851\n",
      "  0.08378668 0.11775926 0.08378668 0.11775926 0.         0.11775926\n",
      "  0.         0.11775926 0.11775926 0.         0.11775926 0.23551851\n",
      "  0.11775926 0.11775926 0.11775926 0.         0.11775926 0.\n",
      "  0.         0.         0.11775926 0.         0.11775926 0.11775926\n",
      "  0.11775926 0.25136004 0.11775926 0.11775926 0.08378668 0.11775926\n",
      "  0.         0.16757336 0.11775926 0.11775926 0.11775926 0.\n",
      "  0.11775926 0.11775926 0.11775926 0.11775926 0.11775926 0.11775926\n",
      "  0.11775926 0.11775926 0.11775926]]\n"
     ]
    }
   ],
   "source": [
    "review = yelp_data_cat['Filtered_Sentence'][0:2]\n",
    "tfidf = TfidfVectorizer()\n",
    "tfidf.fit(review)\n",
    "result = tfidf.transform(review)\n",
    "\n",
    "#summary\n",
    "print('List of unique Words: ',tfidf.vocabulary_)\n",
    "print('')\n",
    "print('Shape of the Sparse Matrix ',result.shape)\n",
    "print('')\n",
    "print(result.toarray())"
   ]
  },
  {
   "cell_type": "markdown",
   "id": "2c9d18bf",
   "metadata": {},
   "source": [
    "## CountVectorizer<a id='CountVector'></a>\n",
    "\n",
    "CountVectorizer is a great tool provided by the scikit-learn library in Python. It is used to transform a given text into a vector on the basis of the frequency (count) of each word that occurs in the entire text. This is helpful when we have multiple such texts, and we wish to convert each word in each text into vectors (for using in further text analysis).\n",
    "\n",
    "https://www.geeksforgeeks.org/using-countvectorizer-to-extracting-features-from-text/"
   ]
  },
  {
   "cell_type": "code",
   "execution_count": 13,
   "id": "cd0736da",
   "metadata": {},
   "outputs": [
    {
     "name": "stdout",
     "output_type": "stream",
     "text": [
      "List of unique Words:  {'morris': 39, 'park': 42, 'bake': 8, 'shop': 52, 'become': 9, 'go': 24, 'spot': 54, 'atmosphere': 6, 'place': 43, 'great': 26, 'inviting': 30, 'love': 33, 'every': 19, 'thing': 59, 'ordered': 41, 'staff': 55, 'really': 49, 'pleasant': 45, 'definitely': 17, 'help': 28, 'anything': 5, 'come': 15, 'back': 7, 'thought': 60, 'cookies': 16, 'biscotti': 11, 'pretty': 47, 'good': 25, 'tasty': 56, 'nothing': 40, 'blew': 12, 'water': 64, 'rock': 50, 'hard': 27, 'almond': 2, 'probably': 48, 'best': 10, 'however': 29, 'didnt': 18, 'feel': 20, 'wonderfully': 67, 'safe': 51, 'walked': 63, 'man': 34, 'toward': 61, 'mask': 35, 'another': 4, 'female': 21, 'member': 37, 'chin': 14, '13': 0, 'members': 38, 'masks': 36, 'isnt': 31, 'walk': 62, 'additionally': 1, 'theyre': 58, 'cash': 13, 'whatever': 66, 'know': 32, 'plenty': 46, 'places': 44, 'wouldnt': 68, 'way': 65, 'get': 23, 'something': 53, 'already': 3, 'thats': 57, 'fine': 22}\n",
      "\n",
      "Shape of the Sparse Matrix  (2, 69)\n",
      "\n",
      "[[0 0 0 0 0 1 1 1 2 1 0 0 0 0 0 1 0 2 0 1 0 0 0 0 1 0 1 0 1 0 1 0 0 1 0 0\n",
      "  0 0 0 2 0 1 2 1 0 1 0 0 0 1 0 0 2 0 1 1 0 0 0 1 0 0 0 0 0 0 0 0 0]\n",
      " [1 1 1 1 1 0 0 1 0 0 1 2 1 3 1 0 1 1 1 0 1 1 1 2 1 1 1 1 0 1 0 1 1 0 1 2\n",
      "  1 1 1 0 1 0 0 0 1 0 1 1 1 3 1 1 1 1 0 2 1 1 1 0 1 1 1 1 1 1 1 1 1]]\n"
     ]
    }
   ],
   "source": [
    "review = yelp_data_cat['Filtered_Sentence'][0:2]\n",
    "vectorizer = CountVectorizer()\n",
    "vectorizer.fit(review)\n",
    "vector = vectorizer.transform(review)\n",
    "\n",
    "#summary\n",
    "print('List of unique Words: ',vectorizer.vocabulary_)\n",
    "print('')\n",
    "print('Shape of the Sparse Matrix ',vector.shape)\n",
    "print('')\n",
    "print(vector.toarray())"
   ]
  },
  {
   "cell_type": "code",
   "execution_count": 19,
   "id": "25244580",
   "metadata": {},
   "outputs": [
    {
     "data": {
      "image/png": "[encoded data removed]",
      "text/plain": [
       "<Figure size 1296x432 with 1 Axes>"
      ]
     },
     "metadata": {},
     "output_type": "display_data"
    }
   ],
   "source": [
    "lists = vectorizer.vocabulary_.items() # sorted by key, return a list of tuples\n",
    "\n",
    "x, y = zip(*lists) # unpack a list of pairs into two tuples\n",
    "\n",
    "plt.figure(figsize=(18,6))\n",
    "plt.bar(x, y)\n",
    "plt.xticks(rotation='vertical')\n",
    "plt.title('Word Frequency in 2 Yelp Reviews')\n",
    "plt.ylabel('Word Frequency')\n",
    "plt.show()"
   ]
  },
  {
   "cell_type": "markdown",
   "id": "4ce6bb56",
   "metadata": {},
   "source": [
    "We got 69 unique words in the first two reviews."
   ]
  },
  {
   "cell_type": "code",
   "execution_count": null,
   "id": "00da5488",
   "metadata": {},
   "outputs": [],
   "source": []
  },
  {
   "cell_type": "markdown",
   "id": "08e14cf5",
   "metadata": {},
   "source": [
    "## Training Data<a id='Training'></a>"
   ]
  },
  {
   "cell_type": "code",
   "execution_count": 8,
   "id": "980d6d45",
   "metadata": {},
   "outputs": [],
   "source": [
    "review = yelp_data_cat['Stemmed_Sentence']\n",
    "tfidf = TfidfVectorizer()\n",
    "tfidf.fit(review)\n",
    "result = tfidf.transform(review)"
   ]
  },
  {
   "cell_type": "code",
   "execution_count": 9,
   "id": "ce1d4aa7",
   "metadata": {},
   "outputs": [],
   "source": [
    "vocab = tfidf.vocabulary_\n",
    "df = pd.DataFrame(result.toarray(),columns = vocab)\n",
    "\n",
    "col_1 ='Name'\n",
    "col_2 = 'Review'\n",
    "col_3 = 'Polarity'\n",
    "col_4 = 'Sentiment'\n",
    "col_5 = '%_Positive_Words'\n",
    "\n",
    "col1 = yelp_data_cat['Name']\n",
    "col2 = yelp_data_cat['Review']\n",
    "col3 = yelp_data_cat['Polarity']\n",
    "col4 = yelp_data_cat['label']\n",
    "col5 = yelp_data_cat['%_Positive_Words']\n",
    "\n",
    "df.insert(0,col_1,col1)\n",
    "df.insert(1,col_2,col2)\n",
    "df.insert(2,col_3,col3)\n",
    "df.insert(3,col_4,col4)\n",
    "df.insert(4,col_5,col5)"
   ]
  },
  {
   "cell_type": "code",
   "execution_count": 10,
   "id": "a5e90cfc",
   "metadata": {},
   "outputs": [
    {
     "data": {
      "text/html": [
       "<div>\n",
       "<style scoped>\n",
       "    .dataframe tbody tr th:only-of-type {\n",
       "        vertical-align: middle;\n",
       "    }\n",
       "\n",
       "    .dataframe tbody tr th {\n",
       "        vertical-align: top;\n",
       "    }\n",
       "\n",
       "    .dataframe thead th {\n",
       "        text-align: right;\n",
       "    }\n",
       "</style>\n",
       "<table border=\"1\" class=\"dataframe\">\n",
       "  <thead>\n",
       "    <tr style=\"text-align: right;\">\n",
       "      <th></th>\n",
       "      <th>Name</th>\n",
       "      <th>Review</th>\n",
       "      <th>Polarity</th>\n",
       "      <th>Sentiment</th>\n",
       "      <th>%_Positive_Words</th>\n",
       "      <th>morri</th>\n",
       "      <th>park</th>\n",
       "      <th>bake</th>\n",
       "      <th>shop</th>\n",
       "      <th>becom</th>\n",
       "      <th>...</th>\n",
       "      <th>pepperour</th>\n",
       "      <th>resourceful</th>\n",
       "      <th>memiri</th>\n",
       "      <th>nigh</th>\n",
       "      <th>firework</th>\n",
       "      <th>whenwer</th>\n",
       "      <th>matredown</th>\n",
       "      <th>becausenow</th>\n",
       "      <th>donn</th>\n",
       "      <th>lectern</th>\n",
       "    </tr>\n",
       "  </thead>\n",
       "  <tbody>\n",
       "    <tr>\n",
       "      <th>0</th>\n",
       "      <td>Morris Park Bake Shop</td>\n",
       "      <td>'Morris Park Bake Shop has become my go to spo...</td>\n",
       "      <td>0.338889</td>\n",
       "      <td>Somewhat Positive</td>\n",
       "      <td>0.206897</td>\n",
       "      <td>0.0</td>\n",
       "      <td>0.0</td>\n",
       "      <td>0.0</td>\n",
       "      <td>0.0</td>\n",
       "      <td>0.0</td>\n",
       "      <td>...</td>\n",
       "      <td>0.0</td>\n",
       "      <td>0.0</td>\n",
       "      <td>0.0</td>\n",
       "      <td>0.0</td>\n",
       "      <td>0.0</td>\n",
       "      <td>0.0</td>\n",
       "      <td>0.0</td>\n",
       "      <td>0.0</td>\n",
       "      <td>0.0</td>\n",
       "      <td>0.0</td>\n",
       "    </tr>\n",
       "    <tr>\n",
       "      <th>1</th>\n",
       "      <td>Morris Park Bake Shop</td>\n",
       "      <td>'I thought the cookies and biscotti were prett...</td>\n",
       "      <td>0.314583</td>\n",
       "      <td>Somewhat Positive</td>\n",
       "      <td>0.130435</td>\n",
       "      <td>0.0</td>\n",
       "      <td>0.0</td>\n",
       "      <td>0.0</td>\n",
       "      <td>0.0</td>\n",
       "      <td>0.0</td>\n",
       "      <td>...</td>\n",
       "      <td>0.0</td>\n",
       "      <td>0.0</td>\n",
       "      <td>0.0</td>\n",
       "      <td>0.0</td>\n",
       "      <td>0.0</td>\n",
       "      <td>0.0</td>\n",
       "      <td>0.0</td>\n",
       "      <td>0.0</td>\n",
       "      <td>0.0</td>\n",
       "      <td>0.0</td>\n",
       "    </tr>\n",
       "  </tbody>\n",
       "</table>\n",
       "<p>2 rows × 24632 columns</p>\n",
       "</div>"
      ],
      "text/plain": [
       "                    Name                                             Review  \\\n",
       "0  Morris Park Bake Shop  'Morris Park Bake Shop has become my go to spo...   \n",
       "1  Morris Park Bake Shop  'I thought the cookies and biscotti were prett...   \n",
       "\n",
       "   Polarity          Sentiment  %_Positive_Words  morri  park  bake  shop  \\\n",
       "0  0.338889  Somewhat Positive          0.206897    0.0   0.0   0.0   0.0   \n",
       "1  0.314583  Somewhat Positive          0.130435    0.0   0.0   0.0   0.0   \n",
       "\n",
       "   becom  ...  pepperour  resourceful  memiri  nigh  firework  whenwer  \\\n",
       "0    0.0  ...        0.0          0.0     0.0   0.0       0.0      0.0   \n",
       "1    0.0  ...        0.0          0.0     0.0   0.0       0.0      0.0   \n",
       "\n",
       "   matredown  becausenow  donn  lectern  \n",
       "0        0.0         0.0   0.0      0.0  \n",
       "1        0.0         0.0   0.0      0.0  \n",
       "\n",
       "[2 rows x 24632 columns]"
      ]
     },
     "execution_count": 10,
     "metadata": {},
     "output_type": "execute_result"
    }
   ],
   "source": [
    "df.head(2)"
   ]
  },
  {
   "cell_type": "markdown",
   "id": "05841b5f",
   "metadata": {},
   "source": [
    "### Logistic Regression<a id='Logreg'></a>\n",
    "\n",
    "The first step for our modeling will be to create a simple model to classify our data using Logistic Regression"
   ]
  },
  {
   "cell_type": "code",
   "execution_count": 11,
   "id": "09ad7de1",
   "metadata": {},
   "outputs": [
    {
     "name": "stdout",
     "output_type": "stream",
     "text": [
      "Accuracy Score:  0.6630360789652825\n",
      "\n",
      "Overall Statistics : \n",
      "\n",
      "ACC Macro                                                         0.83152\n",
      "F1 Macro                                                          0.66835\n",
      "FPR Macro                                                         0.12192\n",
      "Kappa                                                             0.52627\n",
      "Overall ACC                                                       0.66304\n",
      "PPV Macro                                                         0.70186\n",
      "SOA1(Landis & Koch)                                               Moderate\n",
      "TPR Macro                                                         0.64855\n",
      "Zero-one Loss                                                     990\n",
      "\n",
      "Class Statistics :\n",
      "\n",
      "Classes                                                           Negative              Positive              Somewhat Negative     Somewhat Positive     \n",
      "ACC(Accuracy)                                                     0.91899               0.8853                0.7791                0.74268               \n",
      "AUC(Area under the ROC curve)                                     0.78911               0.78668               0.73664               0.74082               \n",
      "AUCI(AUC value interpretation)                                    Good                  Good                  Good                  Good                  \n",
      "F1(F1 score - harmonic mean of precision and sensitivity)         0.68848               0.68883               0.62507               0.67102               \n",
      "FN(False negative/miss/type 2 error)                              172                   229                   310                   279                   \n",
      "FP(False positive/type 1 error/false alarm)                       66                    108                   339                   477                   \n",
      "FPR(Fall-out or false positive rate)                              0.02637               0.04623               0.16243               0.25265               \n",
      "N(Condition negative)                                             2503                  2336                  2087                  1888                  \n",
      "P(Condition positive or support)                                  435                   602                   851                   1050                  \n",
      "POP(Population)                                                   2938                  2938                  2938                  2938                  \n",
      "PPV(Precision or positive predictive value)                       0.79939               0.77547               0.61477               0.61779               \n",
      "TN(True negative/correct rejection)                               2437                  2228                  1748                  1411                  \n",
      "TON(Test outcome negative)                                        2609                  2457                  2058                  1690                  \n",
      "TOP(Test outcome positive)                                        329                   481                   880                   1248                  \n",
      "TP(True positive/hit)                                             263                   373                   541                   771                   \n",
      "TPR(Sensitivity, recall, hit rate, or true positive rate)         0.6046                0.6196                0.63572               0.73429               \n",
      "\n"
     ]
    },
    {
     "data": {
      "image/png": "[encoded data removed]",
      "text/plain": [
       "<Figure size 720x720 with 2 Axes>"
      ]
     },
     "metadata": {},
     "output_type": "display_data"
    }
   ],
   "source": [
    "X = df.iloc[0:,4:]\n",
    "y = df.Sentiment\n",
    "\n",
    "X_train, X_test, y_train, y_test = train_test_split(X, y, random_state = 0, test_size = 0.3)\n",
    "\n",
    "l_reg = LogisticRegression(solver = 'lbfgs')\n",
    "model = Pipeline([('classifier',l_reg)])\n",
    "model.fit(X_train, y_train)\n",
    "pred = model.predict(X_test)\n",
    "mat = confusion_matrix(pred,y_test)\n",
    "cm_df =  pd.DataFrame(mat, index= [i for i in ['Negative','Positive',\n",
    "                                               'Somewhat Negative',\n",
    "                                              'Somewhat Positive']],\n",
    "                     columns= [i for i in ['Negative','Positive',\n",
    "                                               'Somewhat Negative',\n",
    "                                              'Somewhat Positive']])\n",
    "plt.figure(figsize=(10,10))\n",
    "sns.heatmap(cm_df, annot=True,cmap='Blues',fmt='g')\n",
    "\n",
    "cm = ConfusionMatrix(actual_vector=list(y_test), predict_vector = list(pred))\n",
    "print('Accuracy Score: ',accuracy_score(pred, y_test))\n",
    "print('')\n",
    "cm.stat(summary=True)\n"
   ]
  },
  {
   "cell_type": "markdown",
   "id": "9414ecc9",
   "metadata": {},
   "source": [
    "### Min_df<a id='Min_df'></a>\n",
    "\n",
    "With simple logistic regression, we get accuracy of 66%. To improve this and avoid overfitting, we are going to change min/max_df.\n",
    "\n",
    "min_df is used for removing terms that appear too infrequently. For example:\n",
    "- min_df = 0.01 means \"ignore terms that appear in less than 1% of the documents\".\n",
    "- min_df = 5 means \"ignore terms that appear in less than 5 documents\".\n",
    "\n",
    "max_df is used for removing terms that appear too frequently, also known as \"corpus-specific stop words\". For example:\n",
    "- max_df = 0.50 means \"ignore terms that appear in more than 50% of the documents\".\n",
    "- max_df = 25 means \"ignore terms that appear in more than 25 documents\"."
   ]
  },
  {
   "cell_type": "code",
   "execution_count": 15,
   "id": "01275b23",
   "metadata": {},
   "outputs": [],
   "source": [
    "def min_df(num):\n",
    "    scores = {}\n",
    "    \n",
    "    for i in num:\n",
    "        review = yelp_data_cat['Stemmed_Sentence']\n",
    "        tfidf = TfidfVectorizer(min_df = i)\n",
    "        tfidf.fit(review)\n",
    "        result = tfidf.transform(review)\n",
    "\n",
    "        vocab = tfidf.vocabulary_\n",
    "        df = pd.DataFrame(result.toarray(),columns = vocab)\n",
    "\n",
    "        col_1 ='Name'\n",
    "        col_2 = 'Review'\n",
    "        col_3 = 'Polarity'\n",
    "        col_4 = 'Sentiment'\n",
    "        col_5 = '%_Positive_Words'\n",
    "\n",
    "        col1 = yelp_data_cat['Name']\n",
    "        col2 = yelp_data_cat['Review']\n",
    "        col3 = yelp_data_cat['Polarity']\n",
    "        col4 = yelp_data_cat['label']\n",
    "        col5 = yelp_data_cat['%_Positive_Words']\n",
    "\n",
    "        df.insert(0,col_1,col1)\n",
    "        df.insert(1,col_2,col2)\n",
    "        df.insert(2,col_3,col3)\n",
    "        df.insert(3,col_4,col4)\n",
    "        df.insert(4,col_5,col5)\n",
    "\n",
    "\n",
    "        X = df.iloc[0:,4:]\n",
    "        y = df.Sentiment\n",
    "\n",
    "        X_train, X_test, y_train, y_test = train_test_split(X, y, random_state = 0, test_size = 0.3)\n",
    "\n",
    "        l_reg = LogisticRegression(solver = 'lbfgs')\n",
    "        model = Pipeline([('classifier',l_reg)])\n",
    "        model.fit(X_train, y_train)\n",
    "        pred = model.predict(X_test)\n",
    "        \n",
    "        score = accuracy_score(pred, y_test)\n",
    "        \n",
    "        scores[i] = score\n",
    "        \n",
    "    return scores"
   ]
  },
  {
   "cell_type": "code",
   "execution_count": 17,
   "id": "c5f60e20",
   "metadata": {},
   "outputs": [],
   "source": [
    "min_1 = list(range(5,55))\n",
    "scores_1 = min_df(min_1)"
   ]
  },
  {
   "cell_type": "code",
   "execution_count": 21,
   "id": "d457dec9",
   "metadata": {},
   "outputs": [
    {
     "data": {
      "image/png": "[encoded data removed]",
      "text/plain": [
       "<Figure size 720x432 with 1 Axes>"
      ]
     },
     "metadata": {},
     "output_type": "display_data"
    }
   ],
   "source": [
    "x = scores_1.keys()\n",
    "y = scores_1.values()\n",
    "plt.figure(figsize=(10,6))\n",
    "plt.plot(x,y)\n",
    "plt.title('Accuracy of Model based on Min_df (5-55)')\n",
    "plt.xlabel('Min_df Number')\n",
    "plt.ylabel('Accuracy Score');"
   ]
  },
  {
   "cell_type": "code",
   "execution_count": 19,
   "id": "e3f51784",
   "metadata": {},
   "outputs": [
    {
     "data": {
      "text/plain": [
       "52"
      ]
     },
     "execution_count": 19,
     "metadata": {},
     "output_type": "execute_result"
    }
   ],
   "source": [
    "max(scores_1.items(), key = operator.itemgetter(1))[0]"
   ]
  },
  {
   "cell_type": "markdown",
   "id": "918ff309",
   "metadata": {},
   "source": [
    "52 is the best for min_df"
   ]
  },
  {
   "cell_type": "markdown",
   "id": "aca4640c",
   "metadata": {},
   "source": [
    "### N-grams<a id='Ngrams'></a>\n",
    "\n",
    "Now lets check if the accuracy of our model increases with changing the number of ngrams"
   ]
  },
  {
   "cell_type": "code",
   "execution_count": 22,
   "id": "98dc9d0f",
   "metadata": {},
   "outputs": [],
   "source": [
    "def ngram(num):\n",
    "    scores = {}\n",
    "    \n",
    "    for i in num:\n",
    "        review = yelp_data_cat['Stemmed_Sentence']\n",
    "        tfidf = TfidfVectorizer(ngram_range=(1,i), min_df = 52)\n",
    "        tfidf.fit(review)\n",
    "        result = tfidf.transform(review)\n",
    "\n",
    "        vocab = tfidf.vocabulary_\n",
    "        df = pd.DataFrame(result.toarray(),columns = vocab)\n",
    "\n",
    "        col_1 ='Name'\n",
    "        col_2 = 'Review'\n",
    "        col_3 = 'Polarity'\n",
    "        col_4 = 'Sentiment'\n",
    "        col_5 = '%_Positive_Words'\n",
    "\n",
    "        col1 = yelp_data_cat['Name']\n",
    "        col2 = yelp_data_cat['Review']\n",
    "        col3 = yelp_data_cat['Polarity']\n",
    "        col4 = yelp_data_cat['label']\n",
    "        col5 = yelp_data_cat['%_Positive_Words']\n",
    "\n",
    "        df.insert(0,col_1,col1)\n",
    "        df.insert(1,col_2,col2)\n",
    "        df.insert(2,col_3,col3)\n",
    "        df.insert(3,col_4,col4)\n",
    "        df.insert(4,col_5,col5)\n",
    "\n",
    "\n",
    "        X = df.iloc[0:,4:]\n",
    "        y = df.Sentiment\n",
    "\n",
    "        X_train, X_test, y_train, y_test = train_test_split(X, y, random_state = 0, test_size = 0.3)\n",
    "\n",
    "        l_reg = LogisticRegression(solver = 'lbfgs')\n",
    "        model = Pipeline([('classifier',l_reg)])\n",
    "        model.fit(X_train, y_train)\n",
    "        pred = model.predict(X_test)\n",
    "        \n",
    "        score = accuracy_score(pred, y_test)\n",
    "        \n",
    "        scores[i] = score\n",
    "        \n",
    "    return scores"
   ]
  },
  {
   "cell_type": "code",
   "execution_count": 26,
   "id": "a88f0c19",
   "metadata": {},
   "outputs": [],
   "source": [
    "ngram_list = [1,2,3,4]\n",
    "ngram_scores = ngram(ngram_list)"
   ]
  },
  {
   "cell_type": "code",
   "execution_count": 28,
   "id": "81780ac0",
   "metadata": {},
   "outputs": [
    {
     "data": {
      "text/plain": [
       "Text(0, 0.5, 'Accuracy Score')"
      ]
     },
     "execution_count": 28,
     "metadata": {},
     "output_type": "execute_result"
    },
    {
     "data": {
      "image/png": "[encoded data removed]",
      "text/plain": [
       "<Figure size 720x432 with 1 Axes>"
      ]
     },
     "metadata": {},
     "output_type": "display_data"
    }
   ],
   "source": [
    "x = ngram_scores.keys()\n",
    "y = ngram_scores.values()\n",
    "plt.figure(figsize=(10,6))\n",
    "plt.plot(x,y)\n",
    "plt.title('Accuracy of Model based on ngrams (1-4)')\n",
    "plt.xlabel('Number of ngrams')\n",
    "plt.ylabel('Accuracy Score')"
   ]
  },
  {
   "cell_type": "markdown",
   "id": "296ba04d",
   "metadata": {},
   "source": [
    "### Final Dataset<a id='Final'></a>"
   ]
  },
  {
   "cell_type": "code",
   "execution_count": 29,
   "id": "03cd6c54",
   "metadata": {},
   "outputs": [],
   "source": [
    "review = yelp_data_cat['Stemmed_Sentence']\n",
    "tfidf = TfidfVectorizer(min_df = 52, ngram_range = (1,2))\n",
    "tfidf.fit(review)\n",
    "result = tfidf.transform(review)\n",
    "\n",
    "vocab = tfidf.vocabulary_\n",
    "df = pd.DataFrame(result.toarray(),columns = vocab)\n",
    "\n",
    "col_1 ='Name'\n",
    "col_2 = 'Review'\n",
    "col_3 = 'Polarity'\n",
    "col_4 = 'Sentiment'\n",
    "col_5 = '%_Positive_Words'\n",
    "\n",
    "col1 = yelp_data_cat['Name']\n",
    "col2 = yelp_data_cat['Review']\n",
    "col3 = yelp_data_cat['Polarity']\n",
    "col4 = yelp_data_cat['label']\n",
    "col5 = yelp_data_cat['%_Positive_Words']\n",
    "\n",
    "df.insert(0,col_1,col1)\n",
    "df.insert(1,col_2,col2)\n",
    "df.insert(2,col_3,col3)\n",
    "df.insert(3,col_4,col4)\n",
    "df.insert(4,col_5,col5)"
   ]
  },
  {
   "cell_type": "code",
   "execution_count": 30,
   "id": "2d306aa4",
   "metadata": {},
   "outputs": [
    {
     "data": {
      "text/html": [
       "<div>\n",
       "<style scoped>\n",
       "    .dataframe tbody tr th:only-of-type {\n",
       "        vertical-align: middle;\n",
       "    }\n",
       "\n",
       "    .dataframe tbody tr th {\n",
       "        vertical-align: top;\n",
       "    }\n",
       "\n",
       "    .dataframe thead th {\n",
       "        text-align: right;\n",
       "    }\n",
       "</style>\n",
       "<table border=\"1\" class=\"dataframe\">\n",
       "  <thead>\n",
       "    <tr style=\"text-align: right;\">\n",
       "      <th></th>\n",
       "      <th>Name</th>\n",
       "      <th>Review</th>\n",
       "      <th>Polarity</th>\n",
       "      <th>Sentiment</th>\n",
       "      <th>%_Positive_Words</th>\n",
       "      <th>park</th>\n",
       "      <th>bake</th>\n",
       "      <th>shop</th>\n",
       "      <th>becom</th>\n",
       "      <th>go</th>\n",
       "      <th>...</th>\n",
       "      <th>sangria</th>\n",
       "      <th>time squar</th>\n",
       "      <th>jukebox</th>\n",
       "      <th>calzon</th>\n",
       "      <th>byob</th>\n",
       "      <th>pizzeria</th>\n",
       "      <th>bake clam</th>\n",
       "      <th>castl</th>\n",
       "      <th>white castl</th>\n",
       "      <th>drive thru</th>\n",
       "    </tr>\n",
       "  </thead>\n",
       "  <tbody>\n",
       "    <tr>\n",
       "      <th>0</th>\n",
       "      <td>Morris Park Bake Shop</td>\n",
       "      <td>'Morris Park Bake Shop has become my go to spo...</td>\n",
       "      <td>0.338889</td>\n",
       "      <td>Somewhat Positive</td>\n",
       "      <td>0.206897</td>\n",
       "      <td>0.0</td>\n",
       "      <td>0.0</td>\n",
       "      <td>0.0</td>\n",
       "      <td>0.0</td>\n",
       "      <td>0.0</td>\n",
       "      <td>...</td>\n",
       "      <td>0.0</td>\n",
       "      <td>0.0</td>\n",
       "      <td>0.0</td>\n",
       "      <td>0.0</td>\n",
       "      <td>0.0</td>\n",
       "      <td>0.0</td>\n",
       "      <td>0.0</td>\n",
       "      <td>0.0</td>\n",
       "      <td>0.0</td>\n",
       "      <td>0.0</td>\n",
       "    </tr>\n",
       "    <tr>\n",
       "      <th>1</th>\n",
       "      <td>Morris Park Bake Shop</td>\n",
       "      <td>'I thought the cookies and biscotti were prett...</td>\n",
       "      <td>0.314583</td>\n",
       "      <td>Somewhat Positive</td>\n",
       "      <td>0.130435</td>\n",
       "      <td>0.0</td>\n",
       "      <td>0.0</td>\n",
       "      <td>0.0</td>\n",
       "      <td>0.0</td>\n",
       "      <td>0.0</td>\n",
       "      <td>...</td>\n",
       "      <td>0.0</td>\n",
       "      <td>0.0</td>\n",
       "      <td>0.0</td>\n",
       "      <td>0.0</td>\n",
       "      <td>0.0</td>\n",
       "      <td>0.0</td>\n",
       "      <td>0.0</td>\n",
       "      <td>0.0</td>\n",
       "      <td>0.0</td>\n",
       "      <td>0.0</td>\n",
       "    </tr>\n",
       "  </tbody>\n",
       "</table>\n",
       "<p>2 rows × 1587 columns</p>\n",
       "</div>"
      ],
      "text/plain": [
       "                    Name                                             Review  \\\n",
       "0  Morris Park Bake Shop  'Morris Park Bake Shop has become my go to spo...   \n",
       "1  Morris Park Bake Shop  'I thought the cookies and biscotti were prett...   \n",
       "\n",
       "   Polarity          Sentiment  %_Positive_Words  park  bake  shop  becom  \\\n",
       "0  0.338889  Somewhat Positive          0.206897   0.0   0.0   0.0    0.0   \n",
       "1  0.314583  Somewhat Positive          0.130435   0.0   0.0   0.0    0.0   \n",
       "\n",
       "    go  ...  sangria  time squar  jukebox  calzon  byob  pizzeria  bake clam  \\\n",
       "0  0.0  ...      0.0         0.0      0.0     0.0   0.0       0.0        0.0   \n",
       "1  0.0  ...      0.0         0.0      0.0     0.0   0.0       0.0        0.0   \n",
       "\n",
       "   castl  white castl  drive thru  \n",
       "0    0.0          0.0         0.0  \n",
       "1    0.0          0.0         0.0  \n",
       "\n",
       "[2 rows x 1587 columns]"
      ]
     },
     "execution_count": 30,
     "metadata": {},
     "output_type": "execute_result"
    }
   ],
   "source": [
    "df.head(2)"
   ]
  },
  {
   "cell_type": "code",
   "execution_count": 31,
   "id": "72847644",
   "metadata": {},
   "outputs": [],
   "source": [
    "df.to_csv(r'yelp_data_preprocessing.csv',index=False)"
   ]
  },
  {
   "cell_type": "markdown",
   "id": "050b0f4e",
   "metadata": {},
   "source": [
    "## Conclusion<a id='Conclusion'></a>\n",
    "\n",
    "Now we have our dataset which we can use with better models. With just our simple Logistic Regression model we were able to achieve ~ 68% accuracy. This is a reasonable start to our modeling. But with better models we will hopefully be able to achieve better accuracy and performance. That will be our next step. "
   ]
  },
  {
   "cell_type": "code",
   "execution_count": null,
   "id": "57ff0cb9",
   "metadata": {},
   "outputs": [],
   "source": []
  }
 ],
 "metadata": {
  "kernelspec": {
   "display_name": "Python 3",
   "language": "python",
   "name": "python3"
  },
  "language_info": {
   "codemirror_mode": {
    "name": "ipython",
    "version": 3
   },
   "file_extension": ".py",
   "mimetype": "text/x-python",
   "name": "python",
   "nbconvert_exporter": "python",
   "pygments_lexer": "ipython3",
   "version": "3.7.4"
  }
 },
 "nbformat": 4,
 "nbformat_minor": 5
}
