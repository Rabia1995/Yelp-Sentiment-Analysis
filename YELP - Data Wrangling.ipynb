{
 "cells": [
  {
   "cell_type": "markdown",
   "id": "784b66d2",
   "metadata": {},
   "source": [
    "# Yelp Reviews Sentiment Analysis - Data Wrangling\n",
    "\n",
    "#### Prepared by Rabia Tariq: https://github.com/Rabia1995"
   ]
  },
  {
   "cell_type": "markdown",
   "id": "fd6a5926",
   "metadata": {},
   "source": [
    "## Contents\n",
    "\n",
    "* [Introduction](#Introduction)\n",
    "* [Imports](#Imports)\n",
    "* [Scraping](#scrape)\n",
    "* [Yelp API key](#key)\n",
    "* [Acquiring Data](#data)\n",
    "* [Separating Each Review](#separate)\n",
    "* [Most Common Words](#common_words)\n",
    "* [Conclusion](#conclusion)"
   ]
  },
  {
   "cell_type": "markdown",
   "id": "30de7f44",
   "metadata": {},
   "source": [
    "## Introduction<a id='Introduction'></a>\n",
    "\n",
    "These days one of the most common ways customers use to share their thoughts on a product or a service is through online reviews. There is a huge amount of text data and we can use that data in a productive way by classifying the data in the way we want. Through the text data, the companies can gain insights on the wider public opinion and act accordingly. With having so much data, it is very difficult for a human to read through all of the reviews. So, there needs to be a better way to obtain valuable insights from the vast amounts of text data.\n",
    "\n",
    "For this project, we are going to be combining Natural Language Processing and web scraping to collect the data from Yelp of different restaurants. After collecting the data, analyzing it, and modeling we will be able to classify the positive and negative reviews and determine the sentiment of different restaurants"
   ]
  },
  {
   "cell_type": "markdown",
   "id": "f0a69e63",
   "metadata": {},
   "source": [
    "## Imports<a id='Imports'></a>"
   ]
  },
  {
   "cell_type": "code",
   "execution_count": 21,
   "id": "82dc7197",
   "metadata": {},
   "outputs": [],
   "source": [
    "import pandas as pd\n",
    "import numpy as np\n",
    "import matplotlib.pyplot as plt\n",
    "from lxml.html import fromstring\n",
    "import urllib.request\n",
    "import requests\n",
    "import urllib.request\n",
    "from bs4 import BeautifulSoup\n",
    "import requests\n",
    "import json\n",
    "import random\n",
    "import pyautogui\n",
    "import time\n",
    "import seaborn as sns\n",
    "sns.set()\n",
    "from collections import Counter\n",
    "import re\n"
   ]
  },
  {
   "cell_type": "markdown",
   "id": "9cc1110b",
   "metadata": {},
   "source": [
    "# Scraping<a id='scrape'></a>\n",
    "\n",
    "These recources have been used\n",
    "\n",
    "https://www.bestproxyreviews.com/yelp-scraper/\n",
    "\n",
    "https://www.scrapingdog.com/blog/how-to-scrape-yelp-reviews\n",
    "\n",
    "https://www.octoparse.com/blog/web-scraping-using-python#"
   ]
  },
  {
   "cell_type": "code",
   "execution_count": 2,
   "id": "e5564a41",
   "metadata": {},
   "outputs": [],
   "source": [
    "#To stop getting banned from the site, we have to use proxies\n",
    "\n",
    "def get_proxies():\n",
    "    url = 'https://free-proxy-list.net/'\n",
    "    response = requests.get(url)\n",
    "    parser = fromstring(response.text)\n",
    "    proxies = set()\n",
    "    for i in parser.xpath('//tbody/tr')[:10]:\n",
    "        if i.xpath('.//td[7][contains(text(),\"yes\")]'):\n",
    "        #Grabbing IP and corresponding PORT\n",
    "            proxy = \":\".join([i.xpath('.//td[1]/text()')[0], i.xpath('.//td[2]/text()')[0]])\n",
    "            proxies.add(proxy)\n",
    "    return proxies"
   ]
  },
  {
   "cell_type": "code",
   "execution_count": 3,
   "id": "6306846b",
   "metadata": {},
   "outputs": [
    {
     "data": {
      "text/plain": [
       "{'155.0.181.254:43496',\n",
       " '186.167.33.244:42550',\n",
       " '31.204.180.44:53281',\n",
       " '64.124.38.139:8080',\n",
       " '89.36.195.238:35328'}"
      ]
     },
     "execution_count": 3,
     "metadata": {},
     "output_type": "execute_result"
    }
   ],
   "source": [
    "proxies = get_proxies()\n",
    "proxies"
   ]
  },
  {
   "cell_type": "code",
   "execution_count": 4,
   "id": "8ebee6fa",
   "metadata": {},
   "outputs": [],
   "source": [
    "# We will scrape the url and then use Beautiful Soup\n",
    "\n",
    "url = 'https://www.yelp.com/biz/chipotle-mexican-grill-new-york-32'\n",
    "\n",
    "from bs4 import BeautifulSoup, SoupStrainer\n",
    "\n",
    "proxy = urllib.request.ProxyHandler({'https': proxies})\n",
    "opener = urllib.request.build_opener()\n",
    "website = opener.open(url)\n",
    "\n",
    "html = website.read()\n",
    "soup = BeautifulSoup(html, \"html.parser\")"
   ]
  },
  {
   "cell_type": "code",
   "execution_count": 6,
   "id": "a0890923",
   "metadata": {},
   "outputs": [],
   "source": [
    "#soup"
   ]
  },
  {
   "cell_type": "code",
   "execution_count": 7,
   "id": "2a92f1b2",
   "metadata": {},
   "outputs": [],
   "source": [
    "review=[]\n",
    "for i in soup.find_all('div',{'class':\"margin-b2__373c0__yTb68 border-color--default__373c0__1WKlL\"}):\n",
    "    per_review = i.find_all('span',{'class':\"raw__373c0__tQAx6\"})\n",
    "    review.append(per_review)"
   ]
  },
  {
   "cell_type": "code",
   "execution_count": 8,
   "id": "6ac7b3dc",
   "metadata": {},
   "outputs": [
    {
     "data": {
      "text/plain": [
       "[[<span class=\"raw__373c0__tQAx6\" lang=\"en\">During Cinco de Mayo and National Nurses Week in May, I wasn't surprised to see two of Chipotle's All-Stars, Murphy and Frank, providing a welcoming environment in their financial district location.  <br/><br/>As a Health Care Worker, Chipotle has offered VIP treatment to frontline workers throughout the pandemic and we will not forget their kindness and generosity.<br/><br/>Thank you for another free \"Burrito Day\" during Nurses Week!</span>],\n",
       " [<span class=\"raw__373c0__tQAx6\" lang=\"en\">This may be the worst chipotle location of all time. Never order a mobile order here or it's guaranteed to be completely incorrect. Absolute garbage chicken and small portioning. Always cold and never tastes fresh. Avoid this establishment at all costs. Lazy and inconsiderate workers as well.</span>],\n",
       " [<span class=\"raw__373c0__tQAx6\" lang=\"en\">Skimpy portions, order system never works - order to another location as this franchise is under management which specifically has employees go lighter on portions to save food costs. I get it that food costs have increased but really? Your order will also just be manually taken when you arrive vs online since their system is down constantly. Go to dos toros across the street, it's literally the same thing but better</span>],\n",
       " [<span class=\"raw__373c0__tQAx6\" lang=\"en\">This is around my 20th time ordering from Chipotle. And they get my order wrong every. single. time. For example, I ordered sour cream, beans, guacamole, and rice tacos. What do I get? No rice, but instead WHOLE CHUNKS OF PEPPER. Out of all the times Ive gotten guacamole from Chipolte, I've NEVER gotten peppers in it. Whenever I go in and order take-out, they get the order right, but don't seem to manage to get online orders right.</span>],\n",
       " [],\n",
       " [<span class=\"raw__373c0__tQAx6\" lang=\"en\">First time coming to chipotle. They give a generous amount of rice and steak here. I got all the toppings which are tomatoes, corn, lettuce, cheese, and guac for an additional $2.70. I added the medium and hot sauce. But I feel like it wasn't spicy at all. This steak rice bowl is quite heavy and filling. Steak was juicy and tender.</span>],\n",
       " [<span class=\"raw__373c0__tQAx6\" lang=\"en\">Tyrese (Like the singer) is thee MOST professional employee in the building. Thank you so much Tyrese. Food is good too.</span>],\n",
       " [],\n",
       " [<span class=\"raw__373c0__tQAx6\" lang=\"en\">Quick and efficient with good customer service. I tried their Carne Asada bowl but it wasn't as tasty as their chicken. The Carne Asada was bland and cooked well done, which made it a bit chewy. The lines move fast and portion sizes are good. My only caveat is to check your change before you leave the counter. Since they're in a rush to get everyone checked out, they may unintentionally short change you. The cashier realized her mistake and got her manager to rectify the issue. It happens but sometimes it pays to slow down a bit.</span>],\n",
       " [<span class=\"raw__373c0__tQAx6\" lang=\"en\">No stars. Chipotle needs to die in satans asshole. Their food fucking sucks- their \"salads\" have literally 4 menial shreds of lettuce and mostly rice, beans and sour cream- every time.  just another shitty glottonous fast food monster.</span>],\n",
       " [<span class=\"raw__373c0__tQAx6\" lang=\"en\">Terrible service.  Delivery canceled an hour after the order was placed because \"there were no postmates available\" called restaurant  for help and the customer service rep replied \"that's too bad, nothing we can do\"-I believe that was the same response they gave when their lettuce made people sick.</span>],\n",
       " [<span class=\"raw__373c0__tQAx6\" lang=\"en\">Never listen and put whatever they want in your bowl/burrito. Never have ingredients and are too lazy to replace so will let you know \"we're all out of cheese\"... this is Manhattan and your a fast food Mexican restaurant LOL. Walk an extra 10 minutes to another one that does just right, which is a simple ask.</span>]]"
      ]
     },
     "execution_count": 8,
     "metadata": {},
     "output_type": "execute_result"
    }
   ],
   "source": [
    "review"
   ]
  },
  {
   "cell_type": "code",
   "execution_count": 7,
   "id": "8d1ed99f",
   "metadata": {},
   "outputs": [],
   "source": [
    "#The reviews seem pretty messy, so we are going to clean it up a bit\n",
    "\n",
    "review_1 = list(filter(None, review))\n",
    "\n",
    "clean_reviews = []\n",
    "for i in review_1:\n",
    "    new_i = str(i).replace('<span class=\"raw__373c0__tQAx6\" lang=\"en\">','')\n",
    "    new_i = new_i.replace('</span>','')\n",
    "    new_i = new_i.replace('<br/>','')\n",
    "    new_i = new_i.replace('<br>','')\n",
    "    new_i = new_i.replace('[','')\n",
    "    new_i = new_i.replace(']','')\n",
    "    new_i = new_i.replace('\\xa0','')\n",
    "    new_i = new_i.replace('\\'','')\n",
    "    \n",
    "    clean_reviews.append(new_i)"
   ]
  },
  {
   "cell_type": "code",
   "execution_count": 8,
   "id": "defcec49",
   "metadata": {},
   "outputs": [
    {
     "data": {
      "text/plain": [
       "['During Cinco de Mayo and National Nurses Week in May, I wasnt surprised to see two of Chipotles All-Stars, Murphy and Frank, providing a welcoming environment in their financial district location. As a Health Care Worker, Chipotle has offered VIP treatment to frontline workers throughout the pandemic and we will not forget their kindness and generosity.Thank you for another free \"Burrito Day\" during Nurses Week!',\n",
       " 'This may be the worst chipotle location of all time. Never order a mobile order here or its guaranteed to be completely incorrect. Absolute garbage chicken and small portioning. Always cold and never tastes fresh. Avoid this establishment at all costs. Lazy and inconsiderate workers as well.',\n",
       " 'Skimpy portions, order system never works - order to another location as this franchise is under management which specifically has employees go lighter on portions to save food costs. I get it that food costs have increased but really? Your order will also just be manually taken when you arrive vs online since their system is down constantly. Go to dos toros across the street, its literally the same thing but better',\n",
       " 'This is around my 20th time ordering from Chipotle. And they get my order wrong every. single. time. For example, I ordered sour cream, beans, guacamole, and rice tacos. What do I get? No rice, but instead WHOLE CHUNKS OF PEPPER. Out of all the times Ive gotten guacamole from Chipolte, Ive NEVER gotten peppers in it. Whenever I go in and order take-out, they get the order right, but dont seem to manage to get online orders right.',\n",
       " 'First time coming to chipotle. They give a generous amount of rice and steak here. I got all the toppings which are tomatoes, corn, lettuce, cheese, and guac for an additional $2.70. I added the medium and hot sauce. But I feel like it wasnt spicy at all. This steak rice bowl is quite heavy and filling. Steak was juicy and tender.',\n",
       " 'Tyrese (Like the singer) is thee MOST professional employee in the building. Thank you so much Tyrese. Food is good too.',\n",
       " 'Quick and efficient with good customer service. I tried their Carne Asada bowl but it wasnt as tasty as their chicken. The Carne Asada was bland and cooked well done, which made it a bit chewy. The lines move fast and portion sizes are good. My only caveat is to check your change before you leave the counter. Since theyre in a rush to get everyone checked out, they may unintentionally short change you. The cashier realized her mistake and got her manager to rectify the issue. It happens but sometimes it pays to slow down a bit.',\n",
       " 'No stars. Chipotle needs to die in satans asshole. Their food fucking sucks- their \"salads\" have literally 4 menial shreds of lettuce and mostly rice, beans and sour cream- every time. just another shitty glottonous fast food monster.',\n",
       " 'Terrible service. Delivery canceled an hour after the order was placed because \"there were no postmates available\" called restaurant for help and the customer service rep replied \"thats too bad, nothing we can do\"-I believe that was the same response they gave when their lettuce made people sick.',\n",
       " 'Never listen and put whatever they want in your bowl/burrito. Never have ingredients and are too lazy to replace so will let you know \"were all out of cheese\"... this is Manhattan and your a fast food Mexican restaurant LOL. Walk an extra 10 minutes to another one that does just right, which is a simple ask.']"
      ]
     },
     "execution_count": 8,
     "metadata": {},
     "output_type": "execute_result"
    }
   ],
   "source": [
    "clean_reviews"
   ]
  },
  {
   "cell_type": "code",
   "execution_count": 9,
   "id": "92ac2f50",
   "metadata": {},
   "outputs": [
    {
     "data": {
      "text/plain": [
       "'MORRIS PARK BAKE SHOP'"
      ]
     },
     "execution_count": 9,
     "metadata": {},
     "output_type": "execute_result"
    }
   ],
   "source": [
    "nyc = 'https://data.cityofnewyork.us/resource/59dk-tdhz.json'\n",
    "session = requests.Session()\n",
    "session.mount('http://', requests.adapters.HTTPAdapter(max_retries=3))\n",
    "raw_data = session.get(nyc)\n",
    "nyc_data = raw_data.json()\n",
    "\n",
    "restaurants= []\n",
    "\n",
    "for i in range(1000):\n",
    "    name = nyc_data[i]['dba']\n",
    "    restaurants.append(name)\n",
    "\n",
    "# test\n",
    "restaurants[0]"
   ]
  },
  {
   "cell_type": "code",
   "execution_count": 10,
   "id": "7f2062ac",
   "metadata": {},
   "outputs": [
    {
     "data": {
      "text/plain": [
       "1000"
      ]
     },
     "execution_count": 10,
     "metadata": {},
     "output_type": "execute_result"
    }
   ],
   "source": [
    "len(restaurants)"
   ]
  },
  {
   "cell_type": "markdown",
   "id": "078255b3",
   "metadata": {},
   "source": [
    "## Yelp API Key<a id='key'></a>\n",
    "\n",
    "Right now we only have the names of the restaurants. But we need to convert them into valid urls. For that we are going to be using the Yelp API https://www.yelp.com/fusion"
   ]
  },
  {
   "cell_type": "code",
   "execution_count": 11,
   "id": "367ec672",
   "metadata": {},
   "outputs": [],
   "source": [
    "api_key='R7RdYrC-3Vn14_7HYeCCQWMnGjDawaGUHRPzb82A71Ke422oB8BsYF0ebZZ0JksksmQmOKjayKCm1ooSAnE5KNYPxn_yEoveQRNbNJmf6E2looaYaVtUDluY3XtfYXYx'\n",
    "headers = {'Authorization': 'Bearer %s' % api_key}\n",
    "\n",
    "# this is the url that yelp with search to find a valid business url\n",
    "search_url='https://api.yelp.com/v3/businesses/search'\n",
    " \n",
    "# in the dictionary, res can take values like food, cafes or businesses\n",
    "# lets test with the location we just found from the NYC database\n",
    "params = {'res':restaurants[2],'location':'New York City'}"
   ]
  },
  {
   "cell_type": "code",
   "execution_count": 12,
   "id": "b6153752",
   "metadata": {},
   "outputs": [
    {
     "name": "stdout",
     "output_type": "stream",
     "text": [
      "The status code is 200\n"
     ]
    }
   ],
   "source": [
    "r = requests.get(search_url, params = params, headers = headers)\n",
    " \n",
    "# proceed only if the status code is 200\n",
    "print('The status code is {}'.format(r.status_code))"
   ]
  },
  {
   "cell_type": "code",
   "execution_count": 13,
   "id": "ffb0da89",
   "metadata": {},
   "outputs": [
    {
     "data": {
      "text/plain": [
       "list"
      ]
     },
     "execution_count": 13,
     "metadata": {},
     "output_type": "execute_result"
    }
   ],
   "source": [
    "restaurants_1 = json.loads(r.text)\n",
    "\n",
    "type(restaurants_1['businesses'])"
   ]
  },
  {
   "cell_type": "code",
   "execution_count": 16,
   "id": "be6bd1fe",
   "metadata": {},
   "outputs": [],
   "source": [
    "#print(restaurants_1)"
   ]
  },
  {
   "cell_type": "markdown",
   "id": "c773975c",
   "metadata": {},
   "source": [
    "# Acquiring Data<a id='data'></a>\n",
    "\n",
    "After getting the names and the yelp urls of the different restaurants, we are going to create a function that is going to scarpe the useful data (restuarant name, city, zip code, price, reviews, address, etc.) from yelp and store the information in a dataframe. All the parameters can be found here https://www.yelp.com/developers/documentation/v3/business_search\n",
    "\n",
    "\n",
    "The function is created by taking different elements and modifying from the follwing resources.\n",
    "\n",
    "https://www.bestproxyreviews.com/yelp-scraper/\n",
    "\n",
    "https://www.scrapingdog.com/blog/how-to-scrape-yelp-reviews\n",
    "\n",
    "https://www.octoparse.com/blog/web-scraping-using-python#"
   ]
  },
  {
   "cell_type": "code",
   "execution_count": 144,
   "id": "d3471907",
   "metadata": {},
   "outputs": [],
   "source": [
    "#!pip install pyautogui\n",
    "\n",
    "def Yelp_Scraper(locations):\n",
    "    \n",
    "    yelp_data = pd.DataFrame()\n",
    "    alias_list = []\n",
    "    name_list = []\n",
    "    price_list = []\n",
    "    address_list = []\n",
    "    city_list = []\n",
    "    zip_code_list = []\n",
    "    rating_list = []\n",
    "    review_list = []\n",
    "    total_reviews = []\n",
    "    \n",
    "    #convert business names to urls  \n",
    "    for loc in locations:\n",
    "        sec = random.randint(10,15)\n",
    "        time.sleep(sec)\n",
    "        alias = ''\n",
    "        name = ''\n",
    "        price = ''\n",
    "        address = ''\n",
    "        city = ''\n",
    "        zip_code = ''\n",
    "        rating = ''\n",
    "        all_urls = []\n",
    "        all_reviews = []\n",
    "        \n",
    "        params = {'term':loc, 'location':'New York City'}\n",
    "\n",
    "        r = requests.get(search_url, params = params, headers = headers)\n",
    "        \n",
    "        if r.status_code != 200:\n",
    "            continue\n",
    "        \n",
    "        restaurant_data = json.loads(r.text)\n",
    "\n",
    "        \n",
    "        if 'businesses' in restaurant_data:\n",
    "        \n",
    "            if isinstance(restaurant_data['businesses'], list):\n",
    "        \n",
    "                if 'alias' in restaurant_data['businesses'][0]:\n",
    "                    alias = restaurant_data['businesses'][0]['alias']\n",
    "        \n",
    "                if 'name' in restaurant_data['businesses'][0]:\n",
    "                    name = restaurant_data['businesses'][0]['name']\n",
    "            \n",
    "                if 'rating' in restaurant_data['businesses'][0]:\n",
    "                    rating = restaurant_data['businesses'][0]['rating']\n",
    "            \n",
    "                if 'price' in restaurant_data['businesses'][0]:\n",
    "                    price = restaurant_data['businesses'][0]['price']\n",
    "        \n",
    "                if 'location' in restaurant_data['businesses'][0]:\n",
    "                    if 'city' in restaurant_data['businesses'][0]['location']:\n",
    "                        city = restaurant_data['businesses'][0]['location']['city']\n",
    "                    if 'zip_code' in restaurant_data['businesses'][0]['location']:\n",
    "                        zip_code = restaurant_data['businesses'][0]['location']['zip_code']\n",
    "                    if 'display_address' in restaurant_data['businesses'][0]['location']:\n",
    "                        address = restaurant_data['businesses'][0]['location']['display_address'][0]\n",
    "                        \n",
    "                print(name)\n",
    "        \n",
    "        alias_list.append(alias)\n",
    "        name_list.append(name)\n",
    "        price_list.append(price)\n",
    "        address_list.append(address)\n",
    "        city_list.append(city)\n",
    "        zip_code_list.append(zip_code)\n",
    "        rating_list.append(rating)\n",
    "        \n",
    "        add_url = alias\n",
    "        parent_url = parent_url = 'https://www.yelp.com/biz/'\n",
    "        url = parent_url + add_url\n",
    "        \n",
    "    #add more urls to get more reviews\n",
    "    \n",
    "    \n",
    "        pages =['?start=10','?start=20','?start=30','?start=40','?start=50','?start=60']\n",
    "        page1 = url\n",
    "        page2 = url+pages[0]\n",
    "        page3 = url+pages[1]\n",
    "        page4 = url+pages[2]\n",
    "        page5 = url+pages[3]\n",
    "        page6 = url+pages[4]\n",
    "        page7 = url+pages[5]\n",
    "    \n",
    "        all_urls.append([page1,page2,page3,page4,page5,page6,page7])\n",
    "    \n",
    "    # Scrape all urls\n",
    "    \n",
    "        for index in range(len(all_urls[0])):\n",
    "\n",
    "            url = all_urls[0][index]\n",
    "            url = url.encode('ascii', 'ignore').decode('ascii')\n",
    "            response = requests.get(url)\n",
    "            \n",
    "            if response.status_code != 200: \n",
    "                continue\n",
    "            r_text = response.text\n",
    "            soup = BeautifulSoup(r_text,'html.parser')\n",
    "            \n",
    "            review = []\n",
    "            for i in soup.find_all('div',{'class':\"margin-b2__373c0__yTb68 border-color--default__373c0__1WKlL\"}):\n",
    "                per_review = i.find_all('span',{'class':\"raw__373c0__tQAx6\"})\n",
    "                review.append(per_review)\n",
    "            new_review = list(filter(None, review))\n",
    "        \n",
    "            clean_reviews = []\n",
    "            for each in new_review:\n",
    "                new_each = str(each).replace('<span class=\"raw__373c0__tQAx6\" lang=\"en\">','')\n",
    "                new_each = new_each.replace('<span class=\"raw__373c0__tQAx6\">','')\n",
    "                new_each = new_each.replace('</span>','')\n",
    "                new_each = new_each.replace('<br/>','')\n",
    "                new_each = new_each.replace('<br>','')\n",
    "                new_each = new_each.replace('[','')\n",
    "                new_each = new_each.replace(']','')\n",
    "                new_each = new_each.replace('\\xa0','')\n",
    "                new_each = new_each.replace('\\'','')\n",
    "    \n",
    "                clean_reviews.append(new_each)\n",
    "            for review in clean_reviews:\n",
    "                all_reviews.append(review)\n",
    "        \n",
    "        review_list.append(all_reviews)\n",
    "        total_reviews.append(len(all_reviews))\n",
    "        #print(total_reviews)\n",
    "    yelp_data['alias'] = alias_list\n",
    "    yelp_data['name'] = name_list\n",
    "    yelp_data['price'] = price_list\n",
    "    yelp_data['address'] = address_list\n",
    "    yelp_data['city'] = city_list\n",
    "    yelp_data['zip_code'] = zip_code_list\n",
    "    yelp_data['rating'] = rating_list\n",
    "    yelp_data['reviews'] = review_list\n",
    "    yelp_data['total_reviews'] = total_reviews\n",
    " \n",
    "    return yelp_data"
   ]
  },
  {
   "cell_type": "code",
   "execution_count": 27,
   "id": "2605feae",
   "metadata": {},
   "outputs": [],
   "source": [
    "abc = restaurants[0:3]\n",
    "test_abc = Yelp_Scraper(abc)"
   ]
  },
  {
   "cell_type": "code",
   "execution_count": 35,
   "id": "f115420c",
   "metadata": {},
   "outputs": [
    {
     "data": {
      "text/html": [
       "<div>\n",
       "<style scoped>\n",
       "    .dataframe tbody tr th:only-of-type {\n",
       "        vertical-align: middle;\n",
       "    }\n",
       "\n",
       "    .dataframe tbody tr th {\n",
       "        vertical-align: top;\n",
       "    }\n",
       "\n",
       "    .dataframe thead th {\n",
       "        text-align: right;\n",
       "    }\n",
       "</style>\n",
       "<table border=\"1\" class=\"dataframe\">\n",
       "  <thead>\n",
       "    <tr style=\"text-align: right;\">\n",
       "      <th></th>\n",
       "      <th>alias</th>\n",
       "      <th>name</th>\n",
       "      <th>price</th>\n",
       "      <th>address</th>\n",
       "      <th>city</th>\n",
       "      <th>zip_code</th>\n",
       "      <th>rating</th>\n",
       "      <th>reviews</th>\n",
       "      <th>total_reviews</th>\n",
       "    </tr>\n",
       "  </thead>\n",
       "  <tbody>\n",
       "    <tr>\n",
       "      <th>0</th>\n",
       "      <td>morris-park-bake-shop-bronx</td>\n",
       "      <td>Morris Park Bake Shop</td>\n",
       "      <td>$$</td>\n",
       "      <td>1007 Morris Park Ave</td>\n",
       "      <td>Bronx</td>\n",
       "      <td>10462</td>\n",
       "      <td>4.5</td>\n",
       "      <td>[Morris Park Bake Shop has become my go to spo...</td>\n",
       "      <td>54</td>\n",
       "    </tr>\n",
       "    <tr>\n",
       "      <th>1</th>\n",
       "      <td>wendys-new-york-11</td>\n",
       "      <td>Wendy's</td>\n",
       "      <td>$</td>\n",
       "      <td>85 Nassau Street</td>\n",
       "      <td>New York</td>\n",
       "      <td>10038</td>\n",
       "      <td>3.0</td>\n",
       "      <td>[They are good.Would I say exceptional, nah. T...</td>\n",
       "      <td>70</td>\n",
       "    </tr>\n",
       "    <tr>\n",
       "      <th>2</th>\n",
       "      <td>d-j-reynolds-new-york-5</td>\n",
       "      <td>D.J. Reynolds</td>\n",
       "      <td>$$</td>\n",
       "      <td>351 W 57th St</td>\n",
       "      <td>New York</td>\n",
       "      <td>10019</td>\n",
       "      <td>3.5</td>\n",
       "      <td>[Please note that the new hours are: Tuesday-T...</td>\n",
       "      <td>70</td>\n",
       "    </tr>\n",
       "  </tbody>\n",
       "</table>\n",
       "</div>"
      ],
      "text/plain": [
       "                         alias                   name price  \\\n",
       "0  morris-park-bake-shop-bronx  Morris Park Bake Shop    $$   \n",
       "1           wendys-new-york-11                Wendy's     $   \n",
       "2      d-j-reynolds-new-york-5          D.J. Reynolds    $$   \n",
       "\n",
       "                address      city zip_code  rating  \\\n",
       "0  1007 Morris Park Ave     Bronx    10462     4.5   \n",
       "1      85 Nassau Street  New York    10038     3.0   \n",
       "2         351 W 57th St  New York    10019     3.5   \n",
       "\n",
       "                                             reviews  total_reviews  \n",
       "0  [Morris Park Bake Shop has become my go to spo...             54  \n",
       "1  [They are good.Would I say exceptional, nah. T...             70  \n",
       "2  [Please note that the new hours are: Tuesday-T...             70  "
      ]
     },
     "execution_count": 35,
     "metadata": {},
     "output_type": "execute_result"
    }
   ],
   "source": [
    "test_abc"
   ]
  },
  {
   "cell_type": "code",
   "execution_count": 35,
   "id": "bdaaac42",
   "metadata": {},
   "outputs": [
    {
     "data": {
      "text/plain": [
       "'I had a craving for a special type of cake with both an ice cream layer and a regular cake layer and THIS PLACE MADE IT. We placed our order and the bakery had it ready the next morning. It was beautifully decorated, tasted pretty good, and was only ~$22. Highly recommend this bakery for any custom cake orders!'"
      ]
     },
     "execution_count": 35,
     "metadata": {},
     "output_type": "execute_result"
    }
   ],
   "source": [
    "test['reviews'][0][3]"
   ]
  },
  {
   "cell_type": "markdown",
   "id": "b7f4355b",
   "metadata": {},
   "source": [
    "I had to remove some of the restaurants, because I was having some trouble with index range"
   ]
  },
  {
   "cell_type": "code",
   "execution_count": 147,
   "id": "bf9de2fd",
   "metadata": {},
   "outputs": [
    {
     "data": {
      "text/plain": [
       "990"
      ]
     },
     "execution_count": 147,
     "metadata": {},
     "output_type": "execute_result"
    }
   ],
   "source": [
    "del restaurants[17]\n",
    "del restaurants[54]\n",
    "del restaurants[118]\n",
    "del restaurants[135]\n",
    "del restaurants[146]\n",
    "del restaurants[301]\n",
    "del restaurants[509]\n",
    "del restaurants[518]\n",
    "del restaurants[539]\n",
    "len(restaurants)"
   ]
  },
  {
   "cell_type": "code",
   "execution_count": 17,
   "id": "2e43e735",
   "metadata": {
    "scrolled": false
   },
   "outputs": [],
   "source": [
    "nyc_restaurants = restaurants[0:160]\n",
    "yelp_dataset = Yelp_Scraper(nyc_restaurants)"
   ]
  },
  {
   "cell_type": "code",
   "execution_count": 28,
   "id": "04edecc3",
   "metadata": {
    "scrolled": false
   },
   "outputs": [],
   "source": [
    "#yelp_dataset.iloc[0:101]"
   ]
  },
  {
   "cell_type": "code",
   "execution_count": 46,
   "id": "f6711a56",
   "metadata": {},
   "outputs": [],
   "source": [
    "yelp_dataset.to_csv('yelp_dataset.csv', index = None, header = True)"
   ]
  },
  {
   "cell_type": "markdown",
   "id": "572b7e3b",
   "metadata": {},
   "source": [
    "As can be seen some of the restaurants were giving me 0 reviews, so I ran my scarpper function a couple times to collect more reviews and combined them in the dataframe"
   ]
  },
  {
   "cell_type": "code",
   "execution_count": null,
   "id": "85d3df51",
   "metadata": {},
   "outputs": [],
   "source": [
    "nyc_restaurants_2 = restaurants[500:509]\n",
    "yelp_dataset_2 = Yelp_Scraper(nyc_restaurants_2)"
   ]
  },
  {
   "cell_type": "code",
   "execution_count": 38,
   "id": "1641c9fb",
   "metadata": {},
   "outputs": [
    {
     "data": {
      "text/html": [
       "<div>\n",
       "<style scoped>\n",
       "    .dataframe tbody tr th:only-of-type {\n",
       "        vertical-align: middle;\n",
       "    }\n",
       "\n",
       "    .dataframe tbody tr th {\n",
       "        vertical-align: top;\n",
       "    }\n",
       "\n",
       "    .dataframe thead th {\n",
       "        text-align: right;\n",
       "    }\n",
       "</style>\n",
       "<table border=\"1\" class=\"dataframe\">\n",
       "  <thead>\n",
       "    <tr style=\"text-align: right;\">\n",
       "      <th></th>\n",
       "      <th>alias</th>\n",
       "      <th>name</th>\n",
       "      <th>price</th>\n",
       "      <th>address</th>\n",
       "      <th>city</th>\n",
       "      <th>zip_code</th>\n",
       "      <th>rating</th>\n",
       "      <th>reviews</th>\n",
       "      <th>total_reviews</th>\n",
       "    </tr>\n",
       "  </thead>\n",
       "  <tbody>\n",
       "    <tr>\n",
       "      <th>0</th>\n",
       "      <td>the-beekman-a-thompson-hotel-new-york</td>\n",
       "      <td>The Beekman, A Thompson Hotel</td>\n",
       "      <td>$$$</td>\n",
       "      <td>123 Nassau St</td>\n",
       "      <td>New York</td>\n",
       "      <td>10038</td>\n",
       "      <td>4.0</td>\n",
       "      <td>[]</td>\n",
       "      <td>0</td>\n",
       "    </tr>\n",
       "    <tr>\n",
       "      <th>1</th>\n",
       "      <td>peking-duck-house-new-york</td>\n",
       "      <td>Peking Duck House</td>\n",
       "      <td>$$$</td>\n",
       "      <td>28 Mott St</td>\n",
       "      <td>New York</td>\n",
       "      <td>10013</td>\n",
       "      <td>3.0</td>\n",
       "      <td>[]</td>\n",
       "      <td>0</td>\n",
       "    </tr>\n",
       "    <tr>\n",
       "      <th>2</th>\n",
       "      <td>tea-and-sympathy-new-york</td>\n",
       "      <td>Tea &amp; Sympathy</td>\n",
       "      <td>$$</td>\n",
       "      <td>108 Greenwich Ave</td>\n",
       "      <td>New York</td>\n",
       "      <td>10011</td>\n",
       "      <td>3.5</td>\n",
       "      <td>[While the inside of the shop was small (and a...</td>\n",
       "      <td>70</td>\n",
       "    </tr>\n",
       "    <tr>\n",
       "      <th>3</th>\n",
       "      <td>mcdonalds-new-york-411</td>\n",
       "      <td>McDonald's</td>\n",
       "      <td>$</td>\n",
       "      <td>213 Madison St</td>\n",
       "      <td>New York</td>\n",
       "      <td>10002</td>\n",
       "      <td>1.5</td>\n",
       "      <td>[This restaurant saved my marriage. My husband...</td>\n",
       "      <td>32</td>\n",
       "    </tr>\n",
       "    <tr>\n",
       "      <th>4</th>\n",
       "      <td>orso-new-york</td>\n",
       "      <td>Orso</td>\n",
       "      <td>$$$</td>\n",
       "      <td>322 W 46th St</td>\n",
       "      <td>New York</td>\n",
       "      <td>10036</td>\n",
       "      <td>4.0</td>\n",
       "      <td>[A friend recommended this restaurant to us an...</td>\n",
       "      <td>70</td>\n",
       "    </tr>\n",
       "    <tr>\n",
       "      <th>5</th>\n",
       "      <td>h-and-h-bagels-new-york-6</td>\n",
       "      <td>H&amp;H Bagels</td>\n",
       "      <td>$</td>\n",
       "      <td>1551 2nd Ave</td>\n",
       "      <td>New York</td>\n",
       "      <td>10028</td>\n",
       "      <td>4.0</td>\n",
       "      <td>[Ive been wanting to try H&amp;amp;H bagels for su...</td>\n",
       "      <td>70</td>\n",
       "    </tr>\n",
       "    <tr>\n",
       "      <th>6</th>\n",
       "      <td>white-castle-jersey-city</td>\n",
       "      <td>White Castle</td>\n",
       "      <td>$</td>\n",
       "      <td>2995 Kennedy Blvd</td>\n",
       "      <td>Jersey City</td>\n",
       "      <td>07306</td>\n",
       "      <td>3.0</td>\n",
       "      <td>[This is the first White Castle Ive ever been ...</td>\n",
       "      <td>70</td>\n",
       "    </tr>\n",
       "    <tr>\n",
       "      <th>7</th>\n",
       "      <td>new-york-marriott-marquis-new-york-3</td>\n",
       "      <td>New York Marriott Marquis</td>\n",
       "      <td>$$$</td>\n",
       "      <td>1535 Broadway</td>\n",
       "      <td>New York</td>\n",
       "      <td>10036</td>\n",
       "      <td>3.5</td>\n",
       "      <td>[The biggest downside of this hotel is that it...</td>\n",
       "      <td>70</td>\n",
       "    </tr>\n",
       "    <tr>\n",
       "      <th>8</th>\n",
       "      <td>ihop-brooklyn-10</td>\n",
       "      <td>IHOP</td>\n",
       "      <td>$$</td>\n",
       "      <td>253 Livingston St</td>\n",
       "      <td>Brooklyn</td>\n",
       "      <td>11201</td>\n",
       "      <td>2.0</td>\n",
       "      <td>[What can I say about IHOP that could make it ...</td>\n",
       "      <td>70</td>\n",
       "    </tr>\n",
       "  </tbody>\n",
       "</table>\n",
       "</div>"
      ],
      "text/plain": [
       "                                   alias                           name price  \\\n",
       "0  the-beekman-a-thompson-hotel-new-york  The Beekman, A Thompson Hotel   $$$   \n",
       "1             peking-duck-house-new-york              Peking Duck House   $$$   \n",
       "2              tea-and-sympathy-new-york                 Tea & Sympathy    $$   \n",
       "3                 mcdonalds-new-york-411                     McDonald's     $   \n",
       "4                          orso-new-york                           Orso   $$$   \n",
       "5              h-and-h-bagels-new-york-6                     H&H Bagels     $   \n",
       "6               white-castle-jersey-city                   White Castle     $   \n",
       "7   new-york-marriott-marquis-new-york-3      New York Marriott Marquis   $$$   \n",
       "8                       ihop-brooklyn-10                           IHOP    $$   \n",
       "\n",
       "             address         city zip_code  rating  \\\n",
       "0      123 Nassau St     New York    10038     4.0   \n",
       "1         28 Mott St     New York    10013     3.0   \n",
       "2  108 Greenwich Ave     New York    10011     3.5   \n",
       "3     213 Madison St     New York    10002     1.5   \n",
       "4      322 W 46th St     New York    10036     4.0   \n",
       "5       1551 2nd Ave     New York    10028     4.0   \n",
       "6  2995 Kennedy Blvd  Jersey City    07306     3.0   \n",
       "7      1535 Broadway     New York    10036     3.5   \n",
       "8  253 Livingston St     Brooklyn    11201     2.0   \n",
       "\n",
       "                                             reviews  total_reviews  \n",
       "0                                                 []              0  \n",
       "1                                                 []              0  \n",
       "2  [While the inside of the shop was small (and a...             70  \n",
       "3  [This restaurant saved my marriage. My husband...             32  \n",
       "4  [A friend recommended this restaurant to us an...             70  \n",
       "5  [Ive been wanting to try H&amp;H bagels for su...             70  \n",
       "6  [This is the first White Castle Ive ever been ...             70  \n",
       "7  [The biggest downside of this hotel is that it...             70  \n",
       "8  [What can I say about IHOP that could make it ...             70  "
      ]
     },
     "execution_count": 38,
     "metadata": {},
     "output_type": "execute_result"
    }
   ],
   "source": [
    "yelp_dataset_2"
   ]
  },
  {
   "cell_type": "code",
   "execution_count": 47,
   "id": "9d8a3ab3",
   "metadata": {},
   "outputs": [],
   "source": [
    "yelp_dataset_2.to_csv('yelp_dataset_2.csv', index = None, header = True)"
   ]
  },
  {
   "cell_type": "code",
   "execution_count": null,
   "id": "67abf86b",
   "metadata": {},
   "outputs": [],
   "source": [
    "nyc_restaurants_3 = restaurants[509:539]\n",
    "yelp_dataset_3 = Yelp_Scraper(nyc_restaurants_3)"
   ]
  },
  {
   "cell_type": "code",
   "execution_count": 29,
   "id": "50f54ded",
   "metadata": {},
   "outputs": [],
   "source": [
    "#yelp_dataset_3"
   ]
  },
  {
   "cell_type": "code",
   "execution_count": 48,
   "id": "e8697457",
   "metadata": {},
   "outputs": [],
   "source": [
    "yelp_dataset_3.to_csv('yelp_dataset_3.csv', index = None, header = True)"
   ]
  },
  {
   "cell_type": "code",
   "execution_count": 49,
   "id": "b2064afb",
   "metadata": {},
   "outputs": [],
   "source": [
    "yelp_dataset_f = yelp_dataset.append(yelp_dataset_2, ignore_index = True)"
   ]
  },
  {
   "cell_type": "code",
   "execution_count": 51,
   "id": "c3de41ea",
   "metadata": {},
   "outputs": [],
   "source": [
    "yelp_dataset_final = yelp_dataset_f.append(yelp_dataset_3, ignore_index = True)"
   ]
  },
  {
   "cell_type": "code",
   "execution_count": 52,
   "id": "3455eb14",
   "metadata": {},
   "outputs": [
    {
     "data": {
      "text/html": [
       "<div>\n",
       "<style scoped>\n",
       "    .dataframe tbody tr th:only-of-type {\n",
       "        vertical-align: middle;\n",
       "    }\n",
       "\n",
       "    .dataframe tbody tr th {\n",
       "        vertical-align: top;\n",
       "    }\n",
       "\n",
       "    .dataframe thead th {\n",
       "        text-align: right;\n",
       "    }\n",
       "</style>\n",
       "<table border=\"1\" class=\"dataframe\">\n",
       "  <thead>\n",
       "    <tr style=\"text-align: right;\">\n",
       "      <th></th>\n",
       "      <th>alias</th>\n",
       "      <th>name</th>\n",
       "      <th>price</th>\n",
       "      <th>address</th>\n",
       "      <th>city</th>\n",
       "      <th>zip_code</th>\n",
       "      <th>rating</th>\n",
       "      <th>reviews</th>\n",
       "      <th>total_reviews</th>\n",
       "    </tr>\n",
       "  </thead>\n",
       "  <tbody>\n",
       "    <tr>\n",
       "      <th>0</th>\n",
       "      <td>morris-park-bake-shop-bronx</td>\n",
       "      <td>Morris Park Bake Shop</td>\n",
       "      <td>$$</td>\n",
       "      <td>1007 Morris Park Ave</td>\n",
       "      <td>Bronx</td>\n",
       "      <td>10462</td>\n",
       "      <td>4.5</td>\n",
       "      <td>[Morris Park Bake Shop has become my go to spo...</td>\n",
       "      <td>54</td>\n",
       "    </tr>\n",
       "    <tr>\n",
       "      <th>1</th>\n",
       "      <td>wendys-new-york-11</td>\n",
       "      <td>Wendy's</td>\n",
       "      <td>$</td>\n",
       "      <td>85 Nassau Street</td>\n",
       "      <td>New York</td>\n",
       "      <td>10038</td>\n",
       "      <td>3.0</td>\n",
       "      <td>[They are good.Would I say exceptional, nah. T...</td>\n",
       "      <td>70</td>\n",
       "    </tr>\n",
       "    <tr>\n",
       "      <th>2</th>\n",
       "      <td>d-j-reynolds-new-york-5</td>\n",
       "      <td>D.J. Reynolds</td>\n",
       "      <td>$$</td>\n",
       "      <td>351 W 57th St</td>\n",
       "      <td>New York</td>\n",
       "      <td>10019</td>\n",
       "      <td>3.5</td>\n",
       "      <td>[Please note that the new hours are: Tuesday-T...</td>\n",
       "      <td>70</td>\n",
       "    </tr>\n",
       "    <tr>\n",
       "      <th>3</th>\n",
       "      <td>riviera-caterers-brooklyn</td>\n",
       "      <td>Riviera Caterers</td>\n",
       "      <td></td>\n",
       "      <td>2780 Stillwell Ave</td>\n",
       "      <td>Brooklyn</td>\n",
       "      <td>11224</td>\n",
       "      <td>4.5</td>\n",
       "      <td>[I had my wedding here a month ago and I would...</td>\n",
       "      <td>50</td>\n",
       "    </tr>\n",
       "    <tr>\n",
       "      <th>4</th>\n",
       "      <td>wilkens-fine-foods-brooklyn-2</td>\n",
       "      <td>Wilkens Fine Foods</td>\n",
       "      <td>$$</td>\n",
       "      <td>7114 Ave U</td>\n",
       "      <td>Brooklyn</td>\n",
       "      <td>11234</td>\n",
       "      <td>3.5</td>\n",
       "      <td>[This place is the BEST. The staff are friendl...</td>\n",
       "      <td>52</td>\n",
       "    </tr>\n",
       "    <tr>\n",
       "      <th>...</th>\n",
       "      <td>...</td>\n",
       "      <td>...</td>\n",
       "      <td>...</td>\n",
       "      <td>...</td>\n",
       "      <td>...</td>\n",
       "      <td>...</td>\n",
       "      <td>...</td>\n",
       "      <td>...</td>\n",
       "      <td>...</td>\n",
       "    </tr>\n",
       "    <tr>\n",
       "      <th>194</th>\n",
       "      <td>amsterdam-billiards-and-bar-new-york-3</td>\n",
       "      <td>Amsterdam Billiards &amp; Bar</td>\n",
       "      <td>$$</td>\n",
       "      <td>110 E 11th St</td>\n",
       "      <td>New York</td>\n",
       "      <td>10003</td>\n",
       "      <td>3.0</td>\n",
       "      <td>[Great place if you really want to play some l...</td>\n",
       "      <td>60</td>\n",
       "    </tr>\n",
       "    <tr>\n",
       "      <th>195</th>\n",
       "      <td>buddys-burrito-and-taco-bar-brooklyn</td>\n",
       "      <td>Buddy's Burrito &amp; Taco Bar</td>\n",
       "      <td>$</td>\n",
       "      <td>260 Court St</td>\n",
       "      <td>Brooklyn</td>\n",
       "      <td>11231</td>\n",
       "      <td>4.0</td>\n",
       "      <td>[The best taco bar in BK.Everything on the men...</td>\n",
       "      <td>70</td>\n",
       "    </tr>\n",
       "    <tr>\n",
       "      <th>196</th>\n",
       "      <td>la-boite-en-bois-new-york-2</td>\n",
       "      <td>La Boite en Bois</td>\n",
       "      <td>$$$</td>\n",
       "      <td>75 W 68th St</td>\n",
       "      <td>New York</td>\n",
       "      <td>10023</td>\n",
       "      <td>3.5</td>\n",
       "      <td>[FOODWe ordered: the duck confit salad, crab c...</td>\n",
       "      <td>70</td>\n",
       "    </tr>\n",
       "    <tr>\n",
       "      <th>197</th>\n",
       "      <td>ejs-luncheonette-new-york</td>\n",
       "      <td>EJ's Luncheonette</td>\n",
       "      <td>$$</td>\n",
       "      <td>1271 3rd Ave</td>\n",
       "      <td>New York</td>\n",
       "      <td>10021</td>\n",
       "      <td>3.0</td>\n",
       "      <td>[If you havent stopped by your missing a great...</td>\n",
       "      <td>70</td>\n",
       "    </tr>\n",
       "    <tr>\n",
       "      <th>198</th>\n",
       "      <td>court-square-diner-long-island-city</td>\n",
       "      <td>Court Square Diner</td>\n",
       "      <td>$$</td>\n",
       "      <td>45-30 23rd St</td>\n",
       "      <td>Long Island City</td>\n",
       "      <td>11101</td>\n",
       "      <td>3.5</td>\n",
       "      <td>[The Oreo pancakes earned this place 4 stars. ...</td>\n",
       "      <td>50</td>\n",
       "    </tr>\n",
       "  </tbody>\n",
       "</table>\n",
       "<p>199 rows × 9 columns</p>\n",
       "</div>"
      ],
      "text/plain": [
       "                                      alias                        name price  \\\n",
       "0               morris-park-bake-shop-bronx       Morris Park Bake Shop    $$   \n",
       "1                        wendys-new-york-11                     Wendy's     $   \n",
       "2                   d-j-reynolds-new-york-5               D.J. Reynolds    $$   \n",
       "3                 riviera-caterers-brooklyn            Riviera Caterers         \n",
       "4             wilkens-fine-foods-brooklyn-2          Wilkens Fine Foods    $$   \n",
       "..                                      ...                         ...   ...   \n",
       "194  amsterdam-billiards-and-bar-new-york-3   Amsterdam Billiards & Bar    $$   \n",
       "195    buddys-burrito-and-taco-bar-brooklyn  Buddy's Burrito & Taco Bar     $   \n",
       "196             la-boite-en-bois-new-york-2            La Boite en Bois   $$$   \n",
       "197               ejs-luncheonette-new-york           EJ's Luncheonette    $$   \n",
       "198     court-square-diner-long-island-city          Court Square Diner    $$   \n",
       "\n",
       "                  address              city zip_code  rating  \\\n",
       "0    1007 Morris Park Ave             Bronx    10462     4.5   \n",
       "1        85 Nassau Street          New York    10038     3.0   \n",
       "2           351 W 57th St          New York    10019     3.5   \n",
       "3      2780 Stillwell Ave          Brooklyn    11224     4.5   \n",
       "4              7114 Ave U          Brooklyn    11234     3.5   \n",
       "..                    ...               ...      ...     ...   \n",
       "194         110 E 11th St          New York    10003     3.0   \n",
       "195          260 Court St          Brooklyn    11231     4.0   \n",
       "196          75 W 68th St          New York    10023     3.5   \n",
       "197          1271 3rd Ave          New York    10021     3.0   \n",
       "198         45-30 23rd St  Long Island City    11101     3.5   \n",
       "\n",
       "                                               reviews  total_reviews  \n",
       "0    [Morris Park Bake Shop has become my go to spo...             54  \n",
       "1    [They are good.Would I say exceptional, nah. T...             70  \n",
       "2    [Please note that the new hours are: Tuesday-T...             70  \n",
       "3    [I had my wedding here a month ago and I would...             50  \n",
       "4    [This place is the BEST. The staff are friendl...             52  \n",
       "..                                                 ...            ...  \n",
       "194  [Great place if you really want to play some l...             60  \n",
       "195  [The best taco bar in BK.Everything on the men...             70  \n",
       "196  [FOODWe ordered: the duck confit salad, crab c...             70  \n",
       "197  [If you havent stopped by your missing a great...             70  \n",
       "198  [The Oreo pancakes earned this place 4 stars. ...             50  \n",
       "\n",
       "[199 rows x 9 columns]"
      ]
     },
     "execution_count": 52,
     "metadata": {},
     "output_type": "execute_result"
    }
   ],
   "source": [
    "yelp_dataset_final"
   ]
  },
  {
   "cell_type": "code",
   "execution_count": 70,
   "id": "4e0bf6a2",
   "metadata": {},
   "outputs": [],
   "source": [
    "yelp_dataset_final.to_csv('yelp_dataset_final.csv', index = None, header = True)"
   ]
  },
  {
   "cell_type": "code",
   "execution_count": 71,
   "id": "2eb169fd",
   "metadata": {},
   "outputs": [],
   "source": [
    "yelp_dataset_final = yelp_dataset_final[(yelp_dataset_final['total_reviews'] != 0)]"
   ]
  },
  {
   "cell_type": "code",
   "execution_count": 117,
   "id": "14159d86",
   "metadata": {},
   "outputs": [],
   "source": [
    "yelp_dataset_final.reset_index(drop = True, inplace = True)"
   ]
  },
  {
   "cell_type": "code",
   "execution_count": 74,
   "id": "2594bb2a",
   "metadata": {},
   "outputs": [],
   "source": [
    "yelp_dataset_final.to_csv('yelp_dataset_FINAL.csv', index = None, header = True)"
   ]
  },
  {
   "cell_type": "code",
   "execution_count": 118,
   "id": "d8b22931",
   "metadata": {
    "scrolled": false
   },
   "outputs": [
    {
     "data": {
      "text/plain": [
       "'Took my kids here because they were really hungry. I knew i was going to regret it however It was worse then I thought. They took 1 hour to bring the food out. The place was not even moderately packed. They brought the food out cold. Service is non existent here. The servers are literally giving attitude to because you told them your mozzarella stick order suppose to have 6 sticks not 4. Omg i wish their is a way to get a refund here. The most lazy human beings ok earth work here. Smh. Worse of the worse.'"
      ]
     },
     "execution_count": 118,
     "metadata": {},
     "output_type": "execute_result"
    }
   ],
   "source": [
    "yelp_dataset_final['reviews'][100][1]"
   ]
  },
  {
   "cell_type": "code",
   "execution_count": 119,
   "id": "891f008f",
   "metadata": {},
   "outputs": [],
   "source": [
    "final_yelp_dataset = yelp_dataset_final"
   ]
  },
  {
   "cell_type": "code",
   "execution_count": 120,
   "id": "0728bdcc",
   "metadata": {},
   "outputs": [],
   "source": [
    "final_yelp_dataset.to_csv('FINAL_yelp_dataset.csv', index = None, header = True)"
   ]
  },
  {
   "cell_type": "markdown",
   "id": "a60eea6d",
   "metadata": {},
   "source": [
    "# Separating each Review<a id='separate'></a>\n",
    "\n",
    "Now we have a dataset with a list of reviews for eaxh restaurant. We need to separate these reviews for each restaurant so that it can be analyzed separately"
   ]
  },
  {
   "cell_type": "code",
   "execution_count": 11,
   "id": "6475845a",
   "metadata": {},
   "outputs": [],
   "source": [
    "yelp_data = pd.read_csv('YELP_DATA_FINAL.csv')"
   ]
  },
  {
   "cell_type": "code",
   "execution_count": 12,
   "id": "cf2271c5",
   "metadata": {},
   "outputs": [],
   "source": [
    "yelp_dataset_unpack = pd.DataFrame()"
   ]
  },
  {
   "cell_type": "code",
   "execution_count": 13,
   "id": "037ac035",
   "metadata": {},
   "outputs": [],
   "source": [
    "full_alias = []\n",
    "full_name = []\n",
    "full_price = []\n",
    "full_address = []\n",
    "full_city = []\n",
    "full_zip = []\n",
    "full_rating = []\n",
    "full_review = []\n",
    "\n",
    "\n",
    "for index, location in enumerate(yelp_data['alias']):\n",
    "    \n",
    "    alias = location\n",
    "    name = yelp_data[yelp_data['alias'] == location]['name'].values\n",
    "    rating = yelp_data[yelp_data['alias'] == location]['rating'].values\n",
    "    price = yelp_data[yelp_data['alias'] == location]['price'].values\n",
    "    city = yelp_data[yelp_data['alias'] == location]['city'].values\n",
    "    zip_code = yelp_data[yelp_data['alias'] == location]['zip_code'].values\n",
    "    address = yelp_data[yelp_data['alias'] == location]['address'].values\n",
    "    reviews = yelp_data[yelp_data['alias'] == location]['reviews'][index]\n",
    "    reviews = list(reviews.split(\"\\', \"))\n",
    "    \n",
    "    for review in reviews:\n",
    "        \n",
    "        full_alias.append(alias)\n",
    "        full_name.append(name[0])\n",
    "        full_price.append(price[0])\n",
    "        full_address.append(address[0])\n",
    "        full_city.append(city[0])\n",
    "        full_zip.append(zip_code[0])\n",
    "        full_rating.append(rating[0])\n",
    "        full_review.append(review)\n",
    "        \n",
    "yelp_dataset_unpack['Alias'] = full_alias\n",
    "yelp_dataset_unpack['Name'] = full_name\n",
    "yelp_dataset_unpack['Price'] = full_price\n",
    "yelp_dataset_unpack['Address'] = full_address\n",
    "yelp_dataset_unpack['City'] = full_city\n",
    "yelp_dataset_unpack['Zip_code'] = full_zip\n",
    "yelp_dataset_unpack['Rating'] = full_rating\n",
    "yelp_dataset_unpack['Review'] = full_review"
   ]
  },
  {
   "cell_type": "code",
   "execution_count": 18,
   "id": "1ffa3f6f",
   "metadata": {},
   "outputs": [
    {
     "data": {
      "text/html": [
       "<div>\n",
       "<style scoped>\n",
       "    .dataframe tbody tr th:only-of-type {\n",
       "        vertical-align: middle;\n",
       "    }\n",
       "\n",
       "    .dataframe tbody tr th {\n",
       "        vertical-align: top;\n",
       "    }\n",
       "\n",
       "    .dataframe thead th {\n",
       "        text-align: right;\n",
       "    }\n",
       "</style>\n",
       "<table border=\"1\" class=\"dataframe\">\n",
       "  <thead>\n",
       "    <tr style=\"text-align: right;\">\n",
       "      <th></th>\n",
       "      <th>Alias</th>\n",
       "      <th>Name</th>\n",
       "      <th>Price</th>\n",
       "      <th>Address</th>\n",
       "      <th>City</th>\n",
       "      <th>Zip_code</th>\n",
       "      <th>Rating</th>\n",
       "      <th>Review</th>\n",
       "    </tr>\n",
       "  </thead>\n",
       "  <tbody>\n",
       "    <tr>\n",
       "      <th>0</th>\n",
       "      <td>morris-park-bake-shop-bronx</td>\n",
       "      <td>Morris Park Bake Shop</td>\n",
       "      <td>$$</td>\n",
       "      <td>1007 Morris Park Ave</td>\n",
       "      <td>Bronx</td>\n",
       "      <td>10462</td>\n",
       "      <td>4.5</td>\n",
       "      <td>['Morris Park Bake Shop has become my go to sp...</td>\n",
       "    </tr>\n",
       "    <tr>\n",
       "      <th>1</th>\n",
       "      <td>morris-park-bake-shop-bronx</td>\n",
       "      <td>Morris Park Bake Shop</td>\n",
       "      <td>$$</td>\n",
       "      <td>1007 Morris Park Ave</td>\n",
       "      <td>Bronx</td>\n",
       "      <td>10462</td>\n",
       "      <td>4.5</td>\n",
       "      <td>'I thought the cookies and biscotti were prett...</td>\n",
       "    </tr>\n",
       "    <tr>\n",
       "      <th>2</th>\n",
       "      <td>morris-park-bake-shop-bronx</td>\n",
       "      <td>Morris Park Bake Shop</td>\n",
       "      <td>$$</td>\n",
       "      <td>1007 Morris Park Ave</td>\n",
       "      <td>Bronx</td>\n",
       "      <td>10462</td>\n",
       "      <td>4.5</td>\n",
       "      <td>'Guys.... so Im a big time biscotti connoisseu...</td>\n",
       "    </tr>\n",
       "    <tr>\n",
       "      <th>3</th>\n",
       "      <td>morris-park-bake-shop-bronx</td>\n",
       "      <td>Morris Park Bake Shop</td>\n",
       "      <td>$$</td>\n",
       "      <td>1007 Morris Park Ave</td>\n",
       "      <td>Bronx</td>\n",
       "      <td>10462</td>\n",
       "      <td>4.5</td>\n",
       "      <td>'I had a craving for a special type of cake wi...</td>\n",
       "    </tr>\n",
       "    <tr>\n",
       "      <th>4</th>\n",
       "      <td>morris-park-bake-shop-bronx</td>\n",
       "      <td>Morris Park Bake Shop</td>\n",
       "      <td>$$</td>\n",
       "      <td>1007 Morris Park Ave</td>\n",
       "      <td>Bronx</td>\n",
       "      <td>10462</td>\n",
       "      <td>4.5</td>\n",
       "      <td>'The chocolate cups are amazing! Have been eat...</td>\n",
       "    </tr>\n",
       "  </tbody>\n",
       "</table>\n",
       "</div>"
      ],
      "text/plain": [
       "                         Alias                   Name Price  \\\n",
       "0  morris-park-bake-shop-bronx  Morris Park Bake Shop    $$   \n",
       "1  morris-park-bake-shop-bronx  Morris Park Bake Shop    $$   \n",
       "2  morris-park-bake-shop-bronx  Morris Park Bake Shop    $$   \n",
       "3  morris-park-bake-shop-bronx  Morris Park Bake Shop    $$   \n",
       "4  morris-park-bake-shop-bronx  Morris Park Bake Shop    $$   \n",
       "\n",
       "                Address   City  Zip_code  Rating  \\\n",
       "0  1007 Morris Park Ave  Bronx     10462     4.5   \n",
       "1  1007 Morris Park Ave  Bronx     10462     4.5   \n",
       "2  1007 Morris Park Ave  Bronx     10462     4.5   \n",
       "3  1007 Morris Park Ave  Bronx     10462     4.5   \n",
       "4  1007 Morris Park Ave  Bronx     10462     4.5   \n",
       "\n",
       "                                              Review  \n",
       "0  ['Morris Park Bake Shop has become my go to sp...  \n",
       "1  'I thought the cookies and biscotti were prett...  \n",
       "2  'Guys.... so Im a big time biscotti connoisseu...  \n",
       "3  'I had a craving for a special type of cake wi...  \n",
       "4  'The chocolate cups are amazing! Have been eat...  "
      ]
     },
     "execution_count": 18,
     "metadata": {},
     "output_type": "execute_result"
    }
   ],
   "source": [
    "yelp_dataset_unpack.head()"
   ]
  },
  {
   "cell_type": "markdown",
   "id": "2ca70416",
   "metadata": {},
   "source": [
    "There are still some punctuations that we need to get rid of."
   ]
  },
  {
   "cell_type": "code",
   "execution_count": 15,
   "id": "4799c8fb",
   "metadata": {},
   "outputs": [
    {
     "name": "stderr",
     "output_type": "stream",
     "text": [
      "C:\\Users\\Taimoor\\Anaconda3\\lib\\site-packages\\ipykernel_launcher.py:3: SettingWithCopyWarning: \n",
      "A value is trying to be set on a copy of a slice from a DataFrame\n",
      "\n",
      "See the caveats in the documentation: https://pandas.pydata.org/pandas-docs/stable/user_guide/indexing.html#returning-a-view-versus-a-copy\n",
      "  This is separate from the ipykernel package so we can avoid doing imports until\n"
     ]
    }
   ],
   "source": [
    "for index, reviews in enumerate(yelp_dataset_unpack['Review']):\n",
    "    new_each = str(reviews).replace('[','')\n",
    "    yelp_dataset_unpack['Review'][index] = new_each"
   ]
  },
  {
   "cell_type": "code",
   "execution_count": 16,
   "id": "c989ffdb",
   "metadata": {},
   "outputs": [
    {
     "name": "stderr",
     "output_type": "stream",
     "text": [
      "C:\\Users\\Taimoor\\Anaconda3\\lib\\site-packages\\ipykernel_launcher.py:3: SettingWithCopyWarning: \n",
      "A value is trying to be set on a copy of a slice from a DataFrame\n",
      "\n",
      "See the caveats in the documentation: https://pandas.pydata.org/pandas-docs/stable/user_guide/indexing.html#returning-a-view-versus-a-copy\n",
      "  This is separate from the ipykernel package so we can avoid doing imports until\n"
     ]
    }
   ],
   "source": [
    "for index, reviews in enumerate(yelp_dataset_unpack['Review']):\n",
    "    new_each = str(reviews).replace(']','')\n",
    "    yelp_dataset_unpack['Review'][index] = new_each"
   ]
  },
  {
   "cell_type": "code",
   "execution_count": 25,
   "id": "f18299e2",
   "metadata": {},
   "outputs": [],
   "source": [
    "yelp_dataset_unpack.to_csv(r'yelp_data.csv',index=False)"
   ]
  },
  {
   "cell_type": "markdown",
   "id": "496977f1",
   "metadata": {},
   "source": [
    "Now we can analyze our data"
   ]
  },
  {
   "cell_type": "markdown",
   "id": "9a52c8e0",
   "metadata": {},
   "source": [
    "## Most Common Words<a id='common_words'></a>\n",
    "\n",
    "We can see which words are the most common in the yelp reviews and then we can visualize it. Usually the most common words will be the stop words."
   ]
  },
  {
   "cell_type": "code",
   "execution_count": 17,
   "id": "fccfde55",
   "metadata": {},
   "outputs": [
    {
     "data": {
      "text/plain": [
       "[('the', 10),\n",
       " ('biscotti', 6),\n",
       " ('to', 6),\n",
       " ('and', 4),\n",
       " ('in', 4),\n",
       " ('i', 4),\n",
       " ('its', 4),\n",
       " ('but', 4),\n",
       " ('so', 3),\n",
       " ('my', 3)]"
      ]
     },
     "execution_count": 17,
     "metadata": {},
     "output_type": "execute_result"
    }
   ],
   "source": [
    "r = yelp_dataset_unpack['Review'][2]\n",
    "\n",
    "words = re.findall(r'\\w+', r.lower())\n",
    "Counter(words).most_common(10)"
   ]
  },
  {
   "cell_type": "code",
   "execution_count": 18,
   "id": "b0293fb4",
   "metadata": {},
   "outputs": [],
   "source": [
    "all_words = []\n",
    "\n",
    "for review in yelp_dataset_unpack['Review']:\n",
    "    words = re.findall(r'\\w+', review.lower())\n",
    "    for word in words:\n",
    "        all_words.append(word)"
   ]
  },
  {
   "cell_type": "code",
   "execution_count": 19,
   "id": "2a44e01b",
   "metadata": {},
   "outputs": [],
   "source": [
    "common_words = Counter(all_words).most_common(20)"
   ]
  },
  {
   "cell_type": "code",
   "execution_count": 22,
   "id": "a25d52f8",
   "metadata": {},
   "outputs": [
    {
     "data": {
      "image/png": "[encoded data removed]",
      "text/plain": [
       "<Figure size 864x576 with 1 Axes>"
      ]
     },
     "metadata": {},
     "output_type": "display_data"
    }
   ],
   "source": [
    "x = pd.DataFrame(common_words, columns = ['word','count']).set_index('word')\n",
    "plt.figure(figsize=(12,8)) \n",
    "plt.bar(x.index, x['count'])\n",
    "plt.plot(x['count'],color='red',linewidth=3)\n",
    "plt.title(\"Most Common Words in NYC Yelp Reviews\");"
   ]
  },
  {
   "cell_type": "markdown",
   "id": "6d156010",
   "metadata": {},
   "source": [
    "# Conclusion<a id='conclusion'></a>\n",
    "\n",
    "We have our data. The nect step is to do Exploratory Data Analysis and find trends. We are going to be tokenizing our reviews, counting the words, extracting stop words, using stemming and finding the positive words to get the sense of what the sentiment of the review is."
   ]
  },
  {
   "cell_type": "code",
   "execution_count": null,
   "id": "983315f6",
   "metadata": {},
   "outputs": [],
   "source": []
  }
 ],
 "metadata": {
  "kernelspec": {
   "display_name": "Python 3",
   "language": "python",
   "name": "python3"
  },
  "language_info": {
   "codemirror_mode": {
    "name": "ipython",
    "version": 3
   },
   "file_extension": ".py",
   "mimetype": "text/x-python",
   "name": "python",
   "nbconvert_exporter": "python",
   "pygments_lexer": "ipython3",
   "version": "3.7.4"
  }
 },
 "nbformat": 4,
 "nbformat_minor": 5
}
